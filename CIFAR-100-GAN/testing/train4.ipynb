{
 "cells": [
  {
   "cell_type": "markdown",
   "metadata": {},
   "source": [
    "# Great Lunar Lander with DQN\n",
    "\n",
    "**The Team:**\n",
    "* Class: DAAA/FT/2B/06\n",
    "* **Member 1**:\n",
    "    * Name: Haja Amir Rahman\n",
    "* **Member 2**:\n",
    "    * Name: Justin Wong\n",
    "\n",
    "# OpenAI: Lunar Lander V2\n",
    "\n",
    "<img src=\"https://miro.medium.com/max/1400/1*W1t--mEISwFTJNXi-qk7vw.png\" width=\"500\">\n",
    "\n",
    "Image from Medium\n",
    "\n",
    "# Goal of Notebook\n",
    "The goal of the notebook is to create a Reinforcement Learning model that can land an agent in the Lunar Lander gym environment."
   ]
  },
  {
   "cell_type": "markdown",
   "metadata": {},
   "source": [
    "# Introduction\n",
    "\n",
    "**Reinforcement Learning**\n",
    "\n",
    "Reinforcement Learning or RL is subset of machine learning that deals with how an agent in an environment choose a sequence of actions in order to maximise a numerical reward signal. It can also be said that RL is trying to find a balance between exploration and exploitation. Exploration is a type of decision where the agent chooses to pick an action that it would not have done. In contrast, exploitation is when the agent follows what it has always done.\n",
    "\n",
    "**OpenAI GYM**\n",
    "\n",
    "OpenAI GYM is a toolkit for developing and comparing reinforcement learning algorithms. They have a gym library that contains a variety of reinforcement learning tasks from walking in 3D space to playing arcade games like PacMan. These environments have a shared and easy-to-use interface where researchers and developers can train and compare agents using different algorithms.\n",
    "\n",
    "**OpenAI Gym Environment: LunarLander-v2**\n",
    "\n",
    "<img src=\"https://wingedsheep.com/content/images/2020/08/lunarlander.gif\" width=\"500\">\n",
    "\n",
    "Lunar Lander is one of OpenAI's gym environment where the agent is a lunar lander that tries to land on a landing pad at coordinate (0,0). These coordinate are the first 2 numbers in the state vector.\n",
    "\n",
    "There are a total of 4 discrete actions that the lander can do:\n",
    "\n",
    "1. Do nothing\n",
    "2. Fire left orientation engine\n",
    "3. Fire main engine\n",
    "4. Fire right orientation engine\n",
    "\n",
    "There are a total of 8 observation space:\n",
    "\n",
    "1. The coordinates of the lander in x\n",
    "2. The coordinates of the lander in y\n",
    "3. Its linear velocities in x\n",
    "4. Its linear velocities in y\n",
    "5. Its angle\n",
    "6. Its angular velocity\n",
    "7. If left leg is in contact with the ground\n",
    "8. If right leg is in contact with the ground\n",
    "\n",
    "Reward system of Lunar Lander:\n",
    "\n",
    "* Moving from the top of the screen to the landing pad at zero speed can range from 100 to 140 points.\n",
    "* If the lander moves away from the landing pad, it loses back the landing points.\n",
    "* The episode finishes if the lander crashes (receives -100 points) or comes to a rest (receives 100 points).\n",
    "* Each leg ground contact is an additional 10 points.\n",
    "* Firing main engine -0.3 reward per step.\n",
    "\n",
    "From the above, we can conclude that the best episode would be the one where the lander lands (**+20** for legs contact) and comes to rest (**+100** for rest) on the center of the landing pad at zero speed (**+140** for landing) with the least steps (**+200** - (count_main_engine_fire * 0.3))."
   ]
  },
  {
   "cell_type": "markdown",
   "metadata": {},
   "source": [
    "### Importing important modules, dependencies and logging and initialising wandb"
   ]
  },
  {
   "cell_type": "code",
   "execution_count": 1,
   "metadata": {},
   "outputs": [
    {
     "name": "stderr",
     "output_type": "stream",
     "text": [
      "Failed to detect the name of this notebook, you can set it manually with the WANDB_NOTEBOOK_NAME environment variable to enable code saving.\n",
      "\u001b[34m\u001b[1mwandb\u001b[0m: Currently logged in as: \u001b[33mamirrahman19\u001b[0m. Use \u001b[1m`wandb login --relogin`\u001b[0m to force relogin\n"
     ]
    },
    {
     "data": {
      "application/vnd.jupyter.widget-view+json": {
       "model_id": "50c9e05b5c4047a99b9246ea96afceb6",
       "version_major": 2,
       "version_minor": 0
      },
      "text/plain": [
       "VBox(children=(Label(value='Waiting for wandb.init()...\\r'), FloatProgress(value=0.016666666666666666, max=1.0…"
      ]
     },
     "metadata": {},
     "output_type": "display_data"
    },
    {
     "data": {
      "text/html": [
       "Tracking run with wandb version 0.13.9"
      ],
      "text/plain": [
       "<IPython.core.display.HTML object>"
      ]
     },
     "metadata": {},
     "output_type": "display_data"
    },
    {
     "data": {
      "text/html": [
       "Run data is saved locally in <code>c:\\Users\\amir_\\OneDrive - Singapore Polytechnic\\VSC\\PROGRAMMING\\PYTHON\\Python-SCH\\RL\\wandb\\run-20230128_154317-nsnpczp5</code>"
      ],
      "text/plain": [
       "<IPython.core.display.HTML object>"
      ]
     },
     "metadata": {},
     "output_type": "display_data"
    },
    {
     "data": {
      "text/html": [
       "Syncing run <strong><a href=\"https://wandb.ai/amirrahman19/RL/runs/nsnpczp5\" target=\"_blank\">glowing-laughter-32</a></strong> to <a href=\"https://wandb.ai/amirrahman19/RL\" target=\"_blank\">Weights & Biases</a> (<a href=\"https://wandb.me/run\" target=\"_blank\">docs</a>)<br/>"
      ],
      "text/plain": [
       "<IPython.core.display.HTML object>"
      ]
     },
     "metadata": {},
     "output_type": "display_data"
    },
    {
     "data": {
      "text/html": [
       " View project at <a href=\"https://wandb.ai/amirrahman19/RL\" target=\"_blank\">https://wandb.ai/amirrahman19/RL</a>"
      ],
      "text/plain": [
       "<IPython.core.display.HTML object>"
      ]
     },
     "metadata": {},
     "output_type": "display_data"
    },
    {
     "data": {
      "text/html": [
       " View run at <a href=\"https://wandb.ai/amirrahman19/RL/runs/nsnpczp5\" target=\"_blank\">https://wandb.ai/amirrahman19/RL/runs/nsnpczp5</a>"
      ],
      "text/plain": [
       "<IPython.core.display.HTML object>"
      ]
     },
     "metadata": {},
     "output_type": "display_data"
    },
    {
     "data": {
      "text/html": [
       "<button onClick=\"this.nextSibling.style.display='block';this.style.display='none';\">Display W&B run</button><iframe src=\"https://wandb.ai/amirrahman19/RL/runs/nsnpczp5?jupyter=true\" style=\"border:none;width:100%;height:420px;display:none;\"></iframe>"
      ],
      "text/plain": [
       "<wandb.sdk.wandb_run.Run at 0x1d6405c9e20>"
      ]
     },
     "execution_count": 1,
     "metadata": {},
     "output_type": "execute_result"
    }
   ],
   "source": [
    "import numpy as np\n",
    "import gym\n",
    "from IPython.display import clear_output, display\n",
    "import torch\n",
    "import torch.nn as nn\n",
    "import torch.nn.functional as F\n",
    "import random\n",
    "import copy\n",
    "import time\n",
    "import matplotlib.pyplot as plt\n",
    "import wandb\n",
    "wandb.login()\n",
    "wandb.init(project=\"RL\", entity=\"amirrahman19\")\n",
    "#what probs does sarsa solve\n",
    "#what are the pros and cons of sarsa\n",
    "#how does sarsa work"
   ]
  },
  {
   "cell_type": "code",
   "execution_count": 2,
   "metadata": {},
   "outputs": [],
   "source": [
    "env = gym.make('LunarLander-v2')"
   ]
  },
  {
   "cell_type": "markdown",
   "metadata": {},
   "source": [
    "## Creating the Deep Neural Network"
   ]
  },
  {
   "cell_type": "code",
   "execution_count": 3,
   "metadata": {},
   "outputs": [],
   "source": [
    "class Network(nn.Module):\n",
    "    \n",
    "    def __init__(self, state_num , action_num, hidden_layer):\n",
    "        \n",
    "        super(Network, self).__init__()\n",
    "        self.input_layer = nn.Linear(state_num, hidden_layer)\n",
    "        self.h1_layer = nn.Linear(hidden_layer, hidden_layer)\n",
    "        self.h2_layer = nn.Linear(hidden_layer, hidden_layer)\n",
    "        self.output_layer = nn.Linear(hidden_layer, action_num)\n",
    "        \n",
    "\n",
    "    def forward(self, state):\n",
    "        \n",
    "        xh = F.relu(self.input_layer(state))\n",
    "        hh1 = F.relu(self.h1_layer(xh))\n",
    "        hh2 = F.tanh(self.h2_layer(hh1))\n",
    "        state_action_values = self.output_layer(hh2)\n",
    "        \n",
    "        return state_action_values"
   ]
  },
  {
   "cell_type": "code",
   "execution_count": 4,
   "metadata": {},
   "outputs": [],
   "source": [
    "class ReplayBuffer(object):\n",
    "    def __init__(self):\n",
    "        self.buffer = []\n",
    "        self.buffer_s = []\n",
    "        \n",
    "    def add_to_buffer(self, data):\n",
    "        #data must be of the form (state,next_state,action,reward,terminal)\n",
    "        self.buffer.append(data)\n",
    "        \n",
    "    def add_to_buffer_sarsa(self, data):\n",
    "        #data must be of the form (state,next_state,action,n_action,reward,terminal)\n",
    "        self.buffer_s.append(data)\n",
    "\n",
    "    def sample_minibatch(self,minibatch_length):\n",
    "        states = []\n",
    "        next_states = []\n",
    "        actions = []\n",
    "        rewards = []\n",
    "        terminals = []\n",
    "        for i in range(minibatch_length):\n",
    "            random_int = np.random.randint(0, len(self.buffer)-1) \n",
    "            transition = self.buffer[random_int]\n",
    "            states.append(transition[0])\n",
    "            next_states.append(transition[1])\n",
    "            actions.append(transition[2])\n",
    "            rewards.append(transition[3])\n",
    "            terminals.append(transition[4])\n",
    "        return torch.Tensor(states), torch.Tensor(next_states), torch.Tensor(actions), torch.Tensor(rewards), torch.Tensor(terminals)\n",
    "\n",
    "    def sample_minibatch_sarsa(self,minibatch_length):\n",
    "        states = []\n",
    "        next_states = []\n",
    "        actions = []\n",
    "        next_actions = []\n",
    "        rewards = []\n",
    "        terminals = []\n",
    "        for i in range(minibatch_length):\n",
    "            random_int = np.random.randint(0, len(self.buffer_s)-1) \n",
    "            transition = self.buffer_s[random_int]\n",
    "            states.append(transition[0])\n",
    "            next_states.append(transition[1])\n",
    "            actions.append(transition[2])\n",
    "            next_actions.append(transition[3])\n",
    "            rewards.append(transition[4])\n",
    "            terminals.append(transition[5])\n",
    "        return torch.Tensor(states), torch.Tensor(next_states), torch.Tensor(actions), torch.Tensor(next_actions), torch.Tensor(rewards), torch.Tensor(terminals)"
   ]
  },
  {
   "cell_type": "markdown",
   "metadata": {},
   "source": [
    "### Creating Deep Q-Network\n",
    "\n",
    "Deep Q-Network or DQN in short was first proposed by the researchers in Google Deep Mind ([Mnih et al, 2013, 2015](https://www.nature.com/articles/nature14236?wm=book_wap_0005)) which was able to learn 49 different Atari 2600 games simply through a screen. Essentially, Deep Q-Network is a reinforcement learning algorithm that **combines Q-learning with deep neural networks**. This combination allows the agent to learn on complex and high dimensional environments such as video games.\n",
    "\n",
    "**The Model**\n",
    "\n",
    "For this notebook, when I create an instance of the DQN class, it will initialise the model and cloning it for the target model. Both models contains a Dense layer with 512 units with a ReLU activation with an input dimension equal to the **number of observation space** in the environment. Then, there is a hidden Dense layer with 256 units with a ReLu activation. This layer is then connected to a final Dense layer with the number of units equal to the number of **possible action space** for the agent. The model is compile with mean squared error with an Adam optimizer that has a configurable learning rate.\n",
    "\n",
    "**Exploration and Exploitation Trade-off**\n",
    "\n",
    "During training, for every step in every episode, there is a function that takes in the current state where the model will try to **estimate the q-values for each action** from the current state (Exploitation). However, there is a probability where if a randomly chosen number is lower than epsilon, a random action will be returned (i.e. Exploration).\n",
    "\n",
    "**Experience Replay**\n",
    "\n",
    "The returned action will be executed for that step which returns the next state, the reward for that step, whether the episode is done. These variables is then **stored as an experience** in a buffer. A buffer is where the agent keep records of all the state transitions it encountered so it can randomly sample and learn from them later. The memory-buffer used to store this is often referred to as Experience Replay.\n",
    "\n",
    "**Bellman Equation**\n",
    "\n",
    "After that, if there is enough experience, the model will sample some experiences for training. The model then use the Bellman Equation for the **model's target value**, where the expected return value is equal to the reward plus the discounted factor multiplied by the maximum value of the next state predicted by the target model. The state and the target value is then fitted into the model.\n",
    "\n",
    "**Target Network**\n",
    "\n",
    "The purpose of the target network is to **stabilize the training** of the model. This is because the target network prevents the training process from spiraling around. Since we are fixing the targets for multiple time steps, it allows the online network weights to move consistently towards the targets before an update. In our case, the frequency of updating the target network is configurable."
   ]
  },
  {
   "cell_type": "code",
   "execution_count": 5,
   "metadata": {},
   "outputs": [],
   "source": [
    "class Q_Network(nn.Module):\n",
    "    def __init__(self, state_dim , action_dim):\n",
    "        super(Q_Network, self).__init__()\n",
    "        self.x_layer = nn.Linear(state_dim, 150)\n",
    "        self.h_layer = nn.Linear(150, 120)\n",
    "        self.y_layer = nn.Linear(120, action_dim)\n",
    "        print(self.x_layer)\n",
    "\n",
    "    def forward(self, state):\n",
    "        xh = F.relu(self.x_layer(state))\n",
    "        hh = F.relu(self.h_layer(xh))\n",
    "        state_action_values = self.y_layer(hh)\n",
    "        return state_action_values"
   ]
  },
  {
   "cell_type": "markdown",
   "metadata": {},
   "source": [
    "## Making the Agent"
   ]
  },
  {
   "cell_type": "code",
   "execution_count": 6,
   "metadata": {},
   "outputs": [],
   "source": [
    "class DQNAgent(object):\n",
    "    def __init__(self, state_dim, action_dim):\n",
    "        self.qnet = Q_Network(state_dim, action_dim)\n",
    "        self.qnet_optim = torch.optim.Adam(self.qnet.parameters(), lr=0.001)\n",
    "        self.discount_factor = 0.99\n",
    "        self.MSELoss_function = nn.MSELoss()\n",
    "        self.replay_buffer = ReplayBuffer()\n",
    "        pass\n",
    "    \n",
    "    def epsilon_greedy_action(self, state, epsilon):\n",
    "        if np.random.uniform(0, 1) < epsilon:\n",
    "                return env.action_space.sample()  # choose random action\n",
    "        else:\n",
    "                network_output_to_numpy = self.qnet(state).data.numpy()\n",
    "                return np.argmax(network_output_to_numpy)  # choose greedy action\n",
    "\n",
    "    def update_Q_Network(self, state, next_state, action, reward, terminals):\n",
    "        \n",
    "        qsa = torch.gather(self.qnet(state), dim=1, index=action.long())\n",
    "        qsa_next_action = self.qnet(next_state)\n",
    "        qsa_next_action,_ = torch.max(qsa_next_action, dim=1, keepdim=True)\n",
    "        not_terminals = 1 - terminals\n",
    "        qsa_next_target = reward + not_terminals * self.discount_factor * qsa_next_action\n",
    "        q_network_loss = self.MSELoss_function(qsa, qsa_next_target.detach())\n",
    "        self.qnet_optim.zero_grad()\n",
    "        q_network_loss.backward()\n",
    "        self.qnet_optim.step()\n",
    "        wandb.log({'Loss': q_network_loss})\n",
    "    \n",
    "    def update_Sarsa_Network(self, state, next_state, action, next_action, reward, terminals):\n",
    "\n",
    "        qsa = torch.gather(self.qnet(state), dim=1, index=action.long())\n",
    "\n",
    "        qsa_next_action = torch.gather(self.qnet(next_state), dim=1, index=next_action.long())\n",
    "\n",
    "        not_terminals = 1 - terminals\n",
    "\n",
    "        qsa_next_target = reward + not_terminals * (self.discount_factor * qsa_next_action)\n",
    "\n",
    "        q_network_loss = self.MSELoss_function(qsa, qsa_next_target.detach())\n",
    "        self.qnet_optim.zero_grad()\n",
    "        q_network_loss.backward()\n",
    "        self.qnet_optim.step()\n",
    "        \n",
    "    def update(self, update_rate):\n",
    "        for i in range(update_rate):\n",
    "            states, next_states, actions, rewards, terminals = self.replay_buffer.sample_minibatch(64)\n",
    "            states = torch.Tensor(states)\n",
    "            next_states = torch.Tensor(next_states)\n",
    "            actions = torch.Tensor(actions)\n",
    "            rewards = torch.Tensor(rewards)\n",
    "            terminals = torch.Tensor(terminals)\n",
    "            self.update_Q_Network(states, next_states, actions, rewards, terminals)\n",
    "            wandb.log({'reward': rewards.mean()})\n",
    "    def update_s(self, update_rate):\n",
    "        for i in range(update_rate):\n",
    "            states, next_states, actions, next_actions, rewards, terminals = self.replay_buffer.sample_minibatch_sarsa(64)\n",
    "            states = torch.Tensor(states)\n",
    "            next_states = torch.Tensor(next_states)\n",
    "            actions = torch.Tensor(actions)\n",
    "            next_actions = torch.Tensor(next_actions)\n",
    "            rewards = torch.Tensor(rewards)\n",
    "            terminals = torch.Tensor(terminals)\n",
    "            self.update_Sarsa_Network(states, next_states, actions, next_actions, rewards, terminals)\n",
    "    \n",
    "    def best_move(self, state):\n",
    "        \n",
    "        return np.argmax(self.qnet(state).data.numpy())"
   ]
  },
  {
   "cell_type": "code",
   "execution_count": 7,
   "metadata": {},
   "outputs": [],
   "source": [
    "action_dim = env.action_space.n\n",
    "state_dim = env.observation_space.shape[0]"
   ]
  },
  {
   "cell_type": "markdown",
   "metadata": {},
   "source": [
    "### Creating SARSA\n",
    "\n",
    "The difference between SARSA with DQN and DDQN are quite subtle whereby SARSA is an *on-policy* TD control algorithm. Similar to Q-Learning, SARSA uses the same Bellman's Equation to selecting the optimal policy. What's different is the update rule used to update the Q value.\n",
    "\n",
    "$$\n",
    "Q(s,a)=Q(s,a)-\\alpha (r+\\gamma Q(s',a')-Q(s,a))\n",
    "$$\n",
    "\n",
    "In SARSA's update rule, instead of updating the Q-values based on the most optimal next action (i.e. off-policy), SARSA updates the Q-values based on the policy that it uses to select the next action even if during exploration (i.e. on-policy).\n",
    "\n",
    "Based on this characteristic, the pros of SARSA as an algorithm is the ability to penalize the algorithm when a bad action is taken regardless of whether is it during exploration or exploitation phase during the epsilon-greedy policy strategy.\n",
    "\n",
    "In the context of lunar lander, SARSA could help to make the algorithm learn to \"play safe\" during the landing process which is crucial in LunarLander's context as we would want the algorithm to pick the best action to land the aircraft in a safe manner instead of picking the most optimal but it is slightly more risky."
   ]
  },
  {
   "cell_type": "code",
   "execution_count": 8,
   "metadata": {},
   "outputs": [
    {
     "name": "stdout",
     "output_type": "stream",
     "text": [
      "Linear(in_features=8, out_features=150, bias=True)\n",
      "episode: 0 sum_of_rewards_for_episode: -150.63974040288153 final reward -100 epsilon: 1\n"
     ]
    },
    {
     "name": "stderr",
     "output_type": "stream",
     "text": [
      "C:\\Users\\amir_\\AppData\\Local\\Temp\\ipykernel_9656\\2404124181.py:46: UserWarning: Creating a tensor from a list of numpy.ndarrays is extremely slow. Please consider converting the list to a single numpy.ndarray with numpy.array() before converting to a tensor. (Triggered internally at C:\\cb\\pytorch_1000000000000\\work\\torch\\csrc\\utils\\tensor_new.cpp:233.)\n",
      "  return torch.Tensor(states), torch.Tensor(next_states), torch.Tensor(actions), torch.Tensor(next_actions), torch.Tensor(rewards), torch.Tensor(terminals)\n"
     ]
    },
    {
     "name": "stdout",
     "output_type": "stream",
     "text": [
      "episode: 1 sum_of_rewards_for_episode: -274.3352945320553 final reward -100 epsilon: 0.995\n",
      "episode: 2 sum_of_rewards_for_episode: -282.19497006203517 final reward -100 epsilon: 0.990025\n",
      "episode: 3 sum_of_rewards_for_episode: -318.95650754507375 final reward -100 epsilon: 0.985074875\n",
      "episode: 4 sum_of_rewards_for_episode: -268.20305330593175 final reward -100 epsilon: 0.9801495006250001\n",
      "episode: 5 sum_of_rewards_for_episode: -94.75567981479634 final reward -100 epsilon: 0.9752487531218751\n",
      "episode: 6 sum_of_rewards_for_episode: -74.00216729185087 final reward -100 epsilon: 0.9703725093562657\n",
      "episode: 7 sum_of_rewards_for_episode: -267.68603762930616 final reward -100 epsilon: 0.9655206468094844\n",
      "episode: 8 sum_of_rewards_for_episode: -553.0670751537392 final reward -100 epsilon: 0.960693043575437\n",
      "episode: 9 sum_of_rewards_for_episode: -98.20906698400061 final reward -100 epsilon: 0.9558895783575597\n",
      "episode: 10 sum_of_rewards_for_episode: -3.156130984320356 final reward -100 epsilon: 0.9511101304657719\n",
      "episode: 11 sum_of_rewards_for_episode: -104.0345365750536 final reward -100 epsilon: 0.946354579813443\n",
      "episode: 12 sum_of_rewards_for_episode: -83.69120841103276 final reward -100 epsilon: 0.9416228069143757\n",
      "episode: 13 sum_of_rewards_for_episode: -105.06581067305557 final reward -100 epsilon: 0.9369146928798039\n",
      "episode: 14 sum_of_rewards_for_episode: -82.96141614383568 final reward -100 epsilon: 0.9322301194154049\n",
      "episode: 15 sum_of_rewards_for_episode: -164.58783492324918 final reward -100 epsilon: 0.9275689688183278\n",
      "episode: 16 sum_of_rewards_for_episode: -157.84577190005007 final reward -100 epsilon: 0.9229311239742362\n",
      "episode: 17 sum_of_rewards_for_episode: -45.35702113115141 final reward -100 epsilon: 0.918316468354365\n",
      "episode: 18 sum_of_rewards_for_episode: -86.92818214176602 final reward -100 epsilon: 0.9137248860125932\n",
      "episode: 19 sum_of_rewards_for_episode: -176.73564522638594 final reward -100 epsilon: 0.9091562615825302\n",
      "episode: 20 sum_of_rewards_for_episode: -211.8533828751256 final reward -100 epsilon: 0.9046104802746175\n",
      "episode: 21 sum_of_rewards_for_episode: -328.8577848240261 final reward -100 epsilon: 0.9000874278732445\n",
      "episode: 22 sum_of_rewards_for_episode: -344.6122979684382 final reward -100 epsilon: 0.8955869907338783\n",
      "episode: 23 sum_of_rewards_for_episode: -251.8685760569877 final reward -100 epsilon: 0.8911090557802088\n",
      "episode: 24 sum_of_rewards_for_episode: -94.36165086325478 final reward -100 epsilon: 0.8866535105013078\n",
      "episode: 25 sum_of_rewards_for_episode: -41.21630109506377 final reward -100 epsilon: 0.8822202429488013\n",
      "episode: 26 sum_of_rewards_for_episode: -120.59583418797276 final reward -100 epsilon: 0.8778091417340573\n",
      "episode: 27 sum_of_rewards_for_episode: -93.78726196087413 final reward -100 epsilon: 0.8734200960253871\n",
      "episode: 28 sum_of_rewards_for_episode: -95.92822027603877 final reward -100 epsilon: 0.8690529955452602\n",
      "episode: 29 sum_of_rewards_for_episode: -87.43746928945978 final reward -100 epsilon: 0.8647077305675338\n",
      "episode: 30 sum_of_rewards_for_episode: -109.33288311082754 final reward -100 epsilon: 0.8603841919146962\n",
      "episode: 31 sum_of_rewards_for_episode: -76.88068577268699 final reward -100 epsilon: 0.8560822709551227\n",
      "episode: 32 sum_of_rewards_for_episode: -112.86987690177368 final reward -100 epsilon: 0.851801859600347\n",
      "episode: 33 sum_of_rewards_for_episode: -108.05887993277445 final reward -100 epsilon: 0.8475428503023453\n",
      "episode: 34 sum_of_rewards_for_episode: -132.14170083241228 final reward -100 epsilon: 0.8433051360508336\n",
      "episode: 35 sum_of_rewards_for_episode: -77.04969504789565 final reward -100 epsilon: 0.8390886103705794\n",
      "episode: 36 sum_of_rewards_for_episode: -26.17997020281257 final reward -100 epsilon: 0.8348931673187264\n",
      "episode: 37 sum_of_rewards_for_episode: -112.29855227805999 final reward -100 epsilon: 0.8307187014821328\n",
      "episode: 38 sum_of_rewards_for_episode: -113.27548421300621 final reward -100 epsilon: 0.8265651079747222\n",
      "episode: 39 sum_of_rewards_for_episode: -114.45387433904256 final reward -100 epsilon: 0.8224322824348486\n",
      "episode: 40 sum_of_rewards_for_episode: -89.81694274291372 final reward -100 epsilon: 0.8183201210226743\n",
      "episode: 41 sum_of_rewards_for_episode: -64.45383831180489 final reward -100 epsilon: 0.8142285204175609\n",
      "episode: 42 sum_of_rewards_for_episode: -106.48270994927736 final reward -100 epsilon: 0.810157377815473\n",
      "episode: 43 sum_of_rewards_for_episode: -82.73756171173993 final reward -100 epsilon: 0.8061065909263957\n",
      "episode: 44 sum_of_rewards_for_episode: -149.8749929935942 final reward -100 epsilon: 0.8020760579717637\n",
      "episode: 45 sum_of_rewards_for_episode: -60.20458260290606 final reward -100 epsilon: 0.798065677681905\n",
      "episode: 46 sum_of_rewards_for_episode: -56.79682337186288 final reward -100 epsilon: 0.7940753492934954\n",
      "episode: 47 sum_of_rewards_for_episode: -88.14179672529437 final reward -100 epsilon: 0.7901049725470279\n",
      "episode: 48 sum_of_rewards_for_episode: -31.849232660475792 final reward -100 epsilon: 0.7861544476842928\n",
      "episode: 49 sum_of_rewards_for_episode: -97.96747845356218 final reward -100 epsilon: 0.7822236754458713\n",
      "episode: 50 sum_of_rewards_for_episode: -47.444915186265675 final reward -100 epsilon: 0.778312557068642\n",
      "episode: 51 sum_of_rewards_for_episode: -110.35347644339556 final reward -100 epsilon: 0.7744209942832988\n",
      "episode: 52 sum_of_rewards_for_episode: -80.22936159020722 final reward -100 epsilon: 0.7705488893118823\n",
      "episode: 53 sum_of_rewards_for_episode: -181.8207385237419 final reward -100 epsilon: 0.7666961448653229\n",
      "episode: 54 sum_of_rewards_for_episode: -109.28948877789338 final reward -100 epsilon: 0.7628626641409962\n",
      "episode: 55 sum_of_rewards_for_episode: 8.281919952829824 final reward -100 epsilon: 0.7590483508202912\n",
      "episode: 56 sum_of_rewards_for_episode: -61.23100573684374 final reward -100 epsilon: 0.7552531090661897\n",
      "episode: 57 sum_of_rewards_for_episode: -41.42646948896923 final reward -100 epsilon: 0.7514768435208588\n",
      "episode: 58 sum_of_rewards_for_episode: -88.59234594575102 final reward -100 epsilon: 0.7477194593032545\n",
      "episode: 59 sum_of_rewards_for_episode: -43.62777120007874 final reward -100 epsilon: 0.7439808620067382\n",
      "episode: 60 sum_of_rewards_for_episode: -71.26562970619118 final reward -100 epsilon: 0.7402609576967045\n",
      "episode: 61 sum_of_rewards_for_episode: -56.683127947624904 final reward -100 epsilon: 0.736559652908221\n",
      "episode: 62 sum_of_rewards_for_episode: -156.86843011838286 final reward -100 epsilon: 0.7328768546436799\n",
      "episode: 63 sum_of_rewards_for_episode: 28.283777909025275 final reward -100 epsilon: 0.7292124703704616\n",
      "episode: 64 sum_of_rewards_for_episode: -77.99639551674586 final reward -100 epsilon: 0.7255664080186093\n",
      "episode: 65 sum_of_rewards_for_episode: -82.66973446064027 final reward -100 epsilon: 0.7219385759785162\n",
      "episode: 66 sum_of_rewards_for_episode: -36.56886976445057 final reward -100 epsilon: 0.7183288830986236\n",
      "episode: 67 sum_of_rewards_for_episode: -75.14541146506315 final reward -100 epsilon: 0.7147372386831305\n",
      "episode: 68 sum_of_rewards_for_episode: -63.56649064859698 final reward -100 epsilon: 0.7111635524897149\n",
      "episode: 69 sum_of_rewards_for_episode: -36.20828942532769 final reward -100 epsilon: 0.7076077347272662\n",
      "episode: 70 sum_of_rewards_for_episode: -49.06380448354301 final reward -100 epsilon: 0.7040696960536299\n",
      "episode: 71 sum_of_rewards_for_episode: -122.18564333461283 final reward -100 epsilon: 0.7005493475733617\n",
      "episode: 72 sum_of_rewards_for_episode: -17.497274502615724 final reward -100 epsilon: 0.697046600835495\n",
      "episode: 73 sum_of_rewards_for_episode: -65.29589173962685 final reward -100 epsilon: 0.6935613678313175\n",
      "episode: 74 sum_of_rewards_for_episode: -103.82957904534825 final reward -100 epsilon: 0.6900935609921609\n",
      "episode: 75 sum_of_rewards_for_episode: -50.307950867073124 final reward -100 epsilon: 0.6866430931872001\n",
      "episode: 76 sum_of_rewards_for_episode: -80.23225860295308 final reward -100 epsilon: 0.6832098777212641\n",
      "episode: 78 sum_of_rewards_for_episode: -90.70929408389325 final reward -100 epsilon: 0.6763948591909945\n",
      "episode: 79 sum_of_rewards_for_episode: -12.500950892244589 final reward -100 epsilon: 0.6730128848950395\n",
      "episode: 80 sum_of_rewards_for_episode: -99.76118873918622 final reward -100 epsilon: 0.6696478204705644\n",
      "episode: 81 sum_of_rewards_for_episode: -52.17250436472126 final reward -100 epsilon: 0.6662995813682115\n",
      "episode: 82 sum_of_rewards_for_episode: -114.26231478292138 final reward -100 epsilon: 0.6629680834613705\n",
      "episode: 83 sum_of_rewards_for_episode: -179.39304433367943 final reward -100 epsilon: 0.6596532430440636\n",
      "episode: 84 sum_of_rewards_for_episode: -41.24826059819041 final reward -100 epsilon: 0.6563549768288433\n",
      "episode: 85 sum_of_rewards_for_episode: -76.42307105354082 final reward -100 epsilon: 0.653073201944699\n",
      "episode: 86 sum_of_rewards_for_episode: -44.25819610242064 final reward -100 epsilon: 0.6498078359349755\n",
      "episode: 87 sum_of_rewards_for_episode: -74.64003088862175 final reward -100 epsilon: 0.6465587967553006\n",
      "episode: 88 sum_of_rewards_for_episode: -63.17436211993162 final reward -100 epsilon: 0.6433260027715241\n",
      "episode: 89 sum_of_rewards_for_episode: 21.910623442094632 final reward -100 epsilon: 0.6401093727576664\n",
      "episode: 90 sum_of_rewards_for_episode: 8.227573576803294 final reward -100 epsilon: 0.6369088258938781\n",
      "episode: 91 sum_of_rewards_for_episode: -51.64327014310027 final reward -100 epsilon: 0.6337242817644086\n",
      "episode: 92 sum_of_rewards_for_episode: -106.88268243176118 final reward -100 epsilon: 0.6305556603555866\n",
      "episode: 93 sum_of_rewards_for_episode: -98.93146460011464 final reward -100 epsilon: 0.6274028820538087\n",
      "episode: 94 sum_of_rewards_for_episode: -35.91908499821447 final reward -100 epsilon: 0.6242658676435396\n",
      "episode: 95 sum_of_rewards_for_episode: -64.74692834492635 final reward -100 epsilon: 0.6211445383053219\n",
      "episode: 96 sum_of_rewards_for_episode: 7.524375655536559 final reward -100 epsilon: 0.6180388156137953\n",
      "episode: 97 sum_of_rewards_for_episode: -22.92544078315298 final reward -100 epsilon: 0.6149486215357263\n",
      "episode: 98 sum_of_rewards_for_episode: -33.15348029656123 final reward -100 epsilon: 0.6118738784280476\n",
      "episode: 99 sum_of_rewards_for_episode: -103.10723325361688 final reward -100 epsilon: 0.6088145090359074\n",
      "episode: 100 sum_of_rewards_for_episode: 20.155578178967943 final reward -100 epsilon: 0.6057704364907278\n",
      "episode: 101 sum_of_rewards_for_episode: -30.0461407607294 final reward -100 epsilon: 0.6027415843082742\n",
      "episode: 102 sum_of_rewards_for_episode: -44.04464097080715 final reward -100 epsilon: 0.5997278763867329\n",
      "episode: 103 sum_of_rewards_for_episode: -98.72301808182881 final reward -100 epsilon: 0.5967292370047992\n",
      "episode: 104 sum_of_rewards_for_episode: -68.48809711739517 final reward -100 epsilon: 0.5937455908197752\n",
      "episode: 105 sum_of_rewards_for_episode: -28.690997325541602 final reward -100 epsilon: 0.5907768628656763\n",
      "episode: 106 sum_of_rewards_for_episode: -131.49166155610982 final reward -100 epsilon: 0.5878229785513479\n",
      "episode: 107 sum_of_rewards_for_episode: -67.55756383906967 final reward -100 epsilon: 0.5848838636585911\n",
      "episode: 108 sum_of_rewards_for_episode: -76.2310908535575 final reward -100 epsilon: 0.5819594443402982\n",
      "episode: 109 sum_of_rewards_for_episode: -56.90072026028033 final reward -100 epsilon: 0.5790496471185967\n",
      "episode: 110 sum_of_rewards_for_episode: -46.16183979020017 final reward -100 epsilon: 0.5761543988830038\n",
      "episode: 111 sum_of_rewards_for_episode: -26.43551360009012 final reward -100 epsilon: 0.5732736268885887\n",
      "episode: 112 sum_of_rewards_for_episode: -96.40380005704733 final reward -100 epsilon: 0.5704072587541458\n",
      "episode: 113 sum_of_rewards_for_episode: -65.58772246084658 final reward -100 epsilon: 0.567555222460375\n",
      "episode: 114 sum_of_rewards_for_episode: -11.502093593138838 final reward -100 epsilon: 0.5647174463480732\n",
      "episode: 115 sum_of_rewards_for_episode: -77.51574983617165 final reward -100 epsilon: 0.5618938591163328\n",
      "episode: 116 sum_of_rewards_for_episode: 5.604829028175672 final reward -100 epsilon: 0.5590843898207511\n",
      "episode: 117 sum_of_rewards_for_episode: 18.719306020737648 final reward -100 epsilon: 0.5562889678716474\n",
      "episode: 118 sum_of_rewards_for_episode: -87.64248402327073 final reward -100 epsilon: 0.5535075230322891\n",
      "episode: 119 sum_of_rewards_for_episode: -181.4900040794788 final reward -100 epsilon: 0.5507399854171277\n",
      "episode: 120 sum_of_rewards_for_episode: -47.86295383494744 final reward -100 epsilon: 0.547986285490042\n",
      "episode: 121 sum_of_rewards_for_episode: -23.46121247172519 final reward -100 epsilon: 0.5452463540625918\n",
      "episode: 122 sum_of_rewards_for_episode: -38.11088753632083 final reward -100 epsilon: 0.5425201222922789\n",
      "episode: 123 sum_of_rewards_for_episode: -46.331269674843675 final reward -100 epsilon: 0.5398075216808175\n",
      "episode: 124 sum_of_rewards_for_episode: -31.65758049465289 final reward -100 epsilon: 0.5371084840724134\n",
      "episode: 125 sum_of_rewards_for_episode: -24.38172262436106 final reward -100 epsilon: 0.5344229416520513\n",
      "episode: 126 sum_of_rewards_for_episode: -269.35730959571214 final reward -100 epsilon: 0.531750826943791\n",
      "episode: 127 sum_of_rewards_for_episode: -54.95245200311156 final reward -100 epsilon: 0.5290920728090721\n",
      "episode: 128 sum_of_rewards_for_episode: -39.61782180365624 final reward -100 epsilon: 0.5264466124450268\n",
      "episode: 129 sum_of_rewards_for_episode: -16.29244475868741 final reward -100 epsilon: 0.5238143793828016\n",
      "episode: 130 sum_of_rewards_for_episode: -6.176063320684605 final reward -100 epsilon: 0.5211953074858876\n",
      "episode: 131 sum_of_rewards_for_episode: -66.20636033905143 final reward -100 epsilon: 0.5185893309484582\n",
      "episode: 132 sum_of_rewards_for_episode: -16.00062711641965 final reward -100 epsilon: 0.5159963842937159\n",
      "episode: 133 sum_of_rewards_for_episode: -185.2878639397067 final reward -100 epsilon: 0.5134164023722473\n",
      "episode: 134 sum_of_rewards_for_episode: -28.41952203913867 final reward -100 epsilon: 0.510849320360386\n",
      "episode: 135 sum_of_rewards_for_episode: -57.58334040063218 final reward -100 epsilon: 0.5082950737585841\n",
      "episode: 137 sum_of_rewards_for_episode: -61.317315990539754 final reward -100 epsilon: 0.5032248303978422\n",
      "episode: 138 sum_of_rewards_for_episode: -42.55816689368989 final reward -100 epsilon: 0.500708706245853\n",
      "episode: 140 sum_of_rewards_for_episode: -5.067282753564228 final reward -100 epsilon: 0.49571413690105054\n",
      "episode: 141 sum_of_rewards_for_episode: -184.41038982380127 final reward -100 epsilon: 0.4932355662165453\n",
      "episode: 142 sum_of_rewards_for_episode: -89.88660568419537 final reward -100 epsilon: 0.4907693883854626\n",
      "episode: 143 sum_of_rewards_for_episode: -42.286750010920684 final reward -100 epsilon: 0.4883155414435353\n",
      "episode: 144 sum_of_rewards_for_episode: -31.756285387392325 final reward -100 epsilon: 0.4858739637363176\n",
      "episode: 145 sum_of_rewards_for_episode: -23.689656374354513 final reward -100 epsilon: 0.483444593917636\n",
      "episode: 146 sum_of_rewards_for_episode: -91.53132165604514 final reward -100 epsilon: 0.4810273709480478\n",
      "episode: 147 sum_of_rewards_for_episode: -44.03559617719459 final reward -100 epsilon: 0.47862223409330756\n",
      "episode: 148 sum_of_rewards_for_episode: -63.915604205055345 final reward -100 epsilon: 0.47622912292284103\n",
      "episode: 149 sum_of_rewards_for_episode: -58.659080392887915 final reward -100 epsilon: 0.4738479773082268\n",
      "episode: 150 sum_of_rewards_for_episode: -36.444773836085716 final reward -100 epsilon: 0.47147873742168567\n"
     ]
    },
    {
     "ename": "KeyboardInterrupt",
     "evalue": "",
     "output_type": "error",
     "traceback": [
      "\u001b[1;31m---------------------------------------------------------------------------\u001b[0m",
      "\u001b[1;31mKeyboardInterrupt\u001b[0m                         Traceback (most recent call last)",
      "Cell \u001b[1;32mIn[8], line 40\u001b[0m\n\u001b[0;32m     36\u001b[0m \u001b[39m#If not finished after first action - continue learning\u001b[39;00m\n\u001b[0;32m     37\u001b[0m \u001b[39melse\u001b[39;00m:\n\u001b[0;32m     38\u001b[0m     \u001b[39mfor\u001b[39;00m i \u001b[39min\u001b[39;00m \u001b[39mrange\u001b[39m(max_time_steps):\n\u001b[1;32m---> 40\u001b[0m         action_1 \u001b[39m=\u001b[39m agent\u001b[39m.\u001b[39;49mepsilon_greedy_action(torch\u001b[39m.\u001b[39;49mfrom_numpy(state_1)\u001b[39m.\u001b[39;49mfloat(), epsilon)\n\u001b[0;32m     42\u001b[0m         state_2, reward_1, terminal_1, \u001b[39m*\u001b[39m_ \u001b[39m=\u001b[39m env\u001b[39m.\u001b[39mstep(action_1)\n\u001b[0;32m     44\u001b[0m         agent\u001b[39m.\u001b[39mreplay_buffer\u001b[39m.\u001b[39madd_to_buffer_sarsa((state, state_1, [action], [action_1], [reward],[terminal]))\n",
      "Cell \u001b[1;32mIn[6], line 14\u001b[0m, in \u001b[0;36mDQNAgent.epsilon_greedy_action\u001b[1;34m(self, state, epsilon)\u001b[0m\n\u001b[0;32m     12\u001b[0m         \u001b[39mreturn\u001b[39;00m env\u001b[39m.\u001b[39maction_space\u001b[39m.\u001b[39msample()  \u001b[39m# choose random action\u001b[39;00m\n\u001b[0;32m     13\u001b[0m \u001b[39melse\u001b[39;00m:\n\u001b[1;32m---> 14\u001b[0m         network_output_to_numpy \u001b[39m=\u001b[39m \u001b[39mself\u001b[39;49m\u001b[39m.\u001b[39;49mqnet(state)\u001b[39m.\u001b[39mdata\u001b[39m.\u001b[39mnumpy()\n\u001b[0;32m     15\u001b[0m         \u001b[39mreturn\u001b[39;00m np\u001b[39m.\u001b[39margmax(network_output_to_numpy)\n",
      "File \u001b[1;32mc:\\Users\\amir_\\anaconda3\\envs\\pytorch\\lib\\site-packages\\torch\\nn\\modules\\module.py:1194\u001b[0m, in \u001b[0;36mModule._call_impl\u001b[1;34m(self, *input, **kwargs)\u001b[0m\n\u001b[0;32m   1190\u001b[0m \u001b[39m# If we don't have any hooks, we want to skip the rest of the logic in\u001b[39;00m\n\u001b[0;32m   1191\u001b[0m \u001b[39m# this function, and just call forward.\u001b[39;00m\n\u001b[0;32m   1192\u001b[0m \u001b[39mif\u001b[39;00m \u001b[39mnot\u001b[39;00m (\u001b[39mself\u001b[39m\u001b[39m.\u001b[39m_backward_hooks \u001b[39mor\u001b[39;00m \u001b[39mself\u001b[39m\u001b[39m.\u001b[39m_forward_hooks \u001b[39mor\u001b[39;00m \u001b[39mself\u001b[39m\u001b[39m.\u001b[39m_forward_pre_hooks \u001b[39mor\u001b[39;00m _global_backward_hooks\n\u001b[0;32m   1193\u001b[0m         \u001b[39mor\u001b[39;00m _global_forward_hooks \u001b[39mor\u001b[39;00m _global_forward_pre_hooks):\n\u001b[1;32m-> 1194\u001b[0m     \u001b[39mreturn\u001b[39;00m forward_call(\u001b[39m*\u001b[39;49m\u001b[39minput\u001b[39;49m, \u001b[39m*\u001b[39;49m\u001b[39m*\u001b[39;49mkwargs)\n\u001b[0;32m   1195\u001b[0m \u001b[39m# Do not call functions when jit is used\u001b[39;00m\n\u001b[0;32m   1196\u001b[0m full_backward_hooks, non_full_backward_hooks \u001b[39m=\u001b[39m [], []\n",
      "Cell \u001b[1;32mIn[5], line 10\u001b[0m, in \u001b[0;36mQ_Network.forward\u001b[1;34m(self, state)\u001b[0m\n\u001b[0;32m      9\u001b[0m \u001b[39mdef\u001b[39;00m \u001b[39mforward\u001b[39m(\u001b[39mself\u001b[39m, state):\n\u001b[1;32m---> 10\u001b[0m     xh \u001b[39m=\u001b[39m F\u001b[39m.\u001b[39mrelu(\u001b[39mself\u001b[39;49m\u001b[39m.\u001b[39;49mx_layer(state))\n\u001b[0;32m     11\u001b[0m     hh \u001b[39m=\u001b[39m F\u001b[39m.\u001b[39mrelu(\u001b[39mself\u001b[39m\u001b[39m.\u001b[39mh_layer(xh))\n\u001b[0;32m     12\u001b[0m     state_action_values \u001b[39m=\u001b[39m \u001b[39mself\u001b[39m\u001b[39m.\u001b[39my_layer(hh)\n",
      "File \u001b[1;32mc:\\Users\\amir_\\anaconda3\\envs\\pytorch\\lib\\site-packages\\torch\\nn\\modules\\module.py:1194\u001b[0m, in \u001b[0;36mModule._call_impl\u001b[1;34m(self, *input, **kwargs)\u001b[0m\n\u001b[0;32m   1190\u001b[0m \u001b[39m# If we don't have any hooks, we want to skip the rest of the logic in\u001b[39;00m\n\u001b[0;32m   1191\u001b[0m \u001b[39m# this function, and just call forward.\u001b[39;00m\n\u001b[0;32m   1192\u001b[0m \u001b[39mif\u001b[39;00m \u001b[39mnot\u001b[39;00m (\u001b[39mself\u001b[39m\u001b[39m.\u001b[39m_backward_hooks \u001b[39mor\u001b[39;00m \u001b[39mself\u001b[39m\u001b[39m.\u001b[39m_forward_hooks \u001b[39mor\u001b[39;00m \u001b[39mself\u001b[39m\u001b[39m.\u001b[39m_forward_pre_hooks \u001b[39mor\u001b[39;00m _global_backward_hooks\n\u001b[0;32m   1193\u001b[0m         \u001b[39mor\u001b[39;00m _global_forward_hooks \u001b[39mor\u001b[39;00m _global_forward_pre_hooks):\n\u001b[1;32m-> 1194\u001b[0m     \u001b[39mreturn\u001b[39;00m forward_call(\u001b[39m*\u001b[39;49m\u001b[39minput\u001b[39;49m, \u001b[39m*\u001b[39;49m\u001b[39m*\u001b[39;49mkwargs)\n\u001b[0;32m   1195\u001b[0m \u001b[39m# Do not call functions when jit is used\u001b[39;00m\n\u001b[0;32m   1196\u001b[0m full_backward_hooks, non_full_backward_hooks \u001b[39m=\u001b[39m [], []\n",
      "File \u001b[1;32mc:\\Users\\amir_\\anaconda3\\envs\\pytorch\\lib\\site-packages\\torch\\nn\\modules\\linear.py:114\u001b[0m, in \u001b[0;36mLinear.forward\u001b[1;34m(self, input)\u001b[0m\n\u001b[0;32m    113\u001b[0m \u001b[39mdef\u001b[39;00m \u001b[39mforward\u001b[39m(\u001b[39mself\u001b[39m, \u001b[39minput\u001b[39m: Tensor) \u001b[39m-\u001b[39m\u001b[39m>\u001b[39m Tensor:\n\u001b[1;32m--> 114\u001b[0m     \u001b[39mreturn\u001b[39;00m F\u001b[39m.\u001b[39;49mlinear(\u001b[39minput\u001b[39;49m, \u001b[39mself\u001b[39;49m\u001b[39m.\u001b[39;49mweight, \u001b[39mself\u001b[39;49m\u001b[39m.\u001b[39;49mbias)\n",
      "\u001b[1;31mKeyboardInterrupt\u001b[0m: "
     ]
    }
   ],
   "source": [
    "agent = DQNAgent(state_dim, action_dim)\n",
    "number_of_episodes = 1000\n",
    "max_time_steps = 2000\n",
    "epsilon = 1\n",
    "reward_list_sarsa = []\n",
    "final_rewards = []\n",
    "\n",
    "np.random.seed(0)\n",
    "for episode in range(number_of_episodes):\n",
    "    state = env.reset()[0]\n",
    "    \n",
    "    reward_sum = 0\n",
    "    \n",
    "    action = agent.epsilon_greedy_action(torch.from_numpy(state).float(), epsilon)\n",
    "    \n",
    "    state_1, reward, terminal, *_ = env.step(action)\n",
    "    \n",
    "    #Checks for early Finish\n",
    "    if terminal:\n",
    "        \n",
    "        action_1 = agent.epsilon_greedy_action(torch.from_numpy(state_1).float(), epsilon)\n",
    "        agent.replay_buffer.add_to_buffer_sarsa((state, state_1, [action], [action_1], [reward],[terminal]))\n",
    "        \n",
    "        reward_sum += reward\n",
    "        \n",
    "        final_rewards.append(reward)\n",
    "        \n",
    "        reward_list_sarsa.append(reward_sum)\n",
    "        \n",
    "        clear_output(wait=True)\n",
    "        print('Early finish!', 'reward =', reward)\n",
    "        print('episode:', episode, 'sum_of_rewards_for_episode:', reward_sum, 'final reward', \\\n",
    "                      reward, 'epsilon:', epsilon)\n",
    "        wandb.log({'reward': reward_sum, 'epsilon': epsilon}, step=episode)\n",
    "        \n",
    "    #If not finished after first action - continue learning\n",
    "    else:\n",
    "        for i in range(max_time_steps):\n",
    "\n",
    "            action_1 = agent.epsilon_greedy_action(torch.from_numpy(state_1).float(), epsilon)\n",
    "\n",
    "            state_2, reward_1, terminal_1, *_ = env.step(action_1)\n",
    "\n",
    "            agent.replay_buffer.add_to_buffer_sarsa((state, state_1, [action], [action_1], [reward],[terminal]))\n",
    "\n",
    "            reward_sum += reward\n",
    "\n",
    "            state = state_1\n",
    "            state_1 = state_2\n",
    "            action = action_1\n",
    "            reward = reward_1\n",
    "            terminal = terminal_1\n",
    "\n",
    "            if terminal:\n",
    "\n",
    "                action_1 = agent.epsilon_greedy_action(torch.from_numpy(state_1).float(), epsilon)\n",
    "\n",
    "                agent.replay_buffer.add_to_buffer_sarsa((state, state_1, [action], [action_1], [reward],[terminal]))\n",
    "\n",
    "                reward_sum += reward\n",
    "                \n",
    "                final_rewards.append(reward)\n",
    "                \n",
    "                reward_list_sarsa.append(reward_sum)\n",
    "\n",
    "                #clear_output(wait=True)\n",
    "                print('episode:', episode, 'sum_of_rewards_for_episode:', reward_sum, 'final reward', \\\n",
    "                      reward, 'epsilon:', epsilon)\n",
    "                # wandb.log({'episode': episode}, {'sum_of_rewards_for_episode': reward_sum[0]}, {'final reward': reward[0]}, {'epsilon:': epsilon[0]})\n",
    "                \n",
    "                break\n",
    "            \n",
    "    agent.update_s(128) \n",
    "    \n",
    "    if epsilon > 0.2:\n",
    "        epsilon *= 0.995\n",
    "    \n",
    "    if epsilon <= 0.2:\n",
    "        epsilon = 0.2\n",
    "        \n"
   ]
  },
  {
   "cell_type": "code",
   "execution_count": null,
   "metadata": {},
   "outputs": [],
   "source": [
    "def m_a(values, window=50):\n",
    "    weight = np.repeat(1.0, window)/window\n",
    "    smas = np.convolve(values,weight,'valid')\n",
    "    return smas"
   ]
  },
  {
   "cell_type": "code",
   "execution_count": null,
   "metadata": {},
   "outputs": [],
   "source": [
    "smas = m_a(reward_list_sarsa)\n"
   ]
  },
  {
   "cell_type": "code",
   "execution_count": null,
   "metadata": {},
   "outputs": [
    {
     "data": {
      "image/png": "[encoded data removed]",
      "text/plain": [
       "<Figure size 1000x500 with 1 Axes>"
      ]
     },
     "metadata": {},
     "output_type": "display_data"
    }
   ],
   "source": [
    "fig, ax = plt.subplots(figsize=(10,5))\n",
    "\n",
    "ax.plot(reward_list_sarsa)\n",
    "ax.plot(smas)\n",
    "ax.set_ylabel('Rewards')\n",
    "ax.set_xlabel('Episodes')\n",
    "ax.set_title('Deep SARSA learning (1000 episodes training)')\n",
    "plt.savefig('images/Sarsa600epma.jpg')"
   ]
  },
  {
   "cell_type": "code",
   "execution_count": null,
   "metadata": {},
   "outputs": [],
   "source": [
    "import pickle"
   ]
  },
  {
   "cell_type": "code",
   "execution_count": null,
   "metadata": {},
   "outputs": [],
   "source": [
    "# torch.save(agent.qnetwork_local.state_dict(), 'saved_models/sarsa.pth')"
   ]
  },
  {
   "cell_type": "code",
   "execution_count": null,
   "metadata": {},
   "outputs": [],
   "source": [
    "ep_600 = reward_list_sarsa\n",
    "with open(\"saved_models/rewards_ep.txt\", \"wb\") as fp:\n",
    "    pickle.dump(ep_600, fp)"
   ]
  },
  {
   "cell_type": "code",
   "execution_count": null,
   "metadata": {},
   "outputs": [],
   "source": [
    "with open(\"saved_models/rewards_ep.txt\", \"rb\") as fp:\n",
    "    imported = pickle.load(fp)"
   ]
  },
  {
   "cell_type": "code",
   "execution_count": null,
   "metadata": {},
   "outputs": [],
   "source": [
    "smass = m_a(imported)"
   ]
  },
  {
   "cell_type": "code",
   "execution_count": null,
   "metadata": {},
   "outputs": [],
   "source": [
    "# torch.save(agent.qnetwork_local.state_dict(), 'sarsa.pth')"
   ]
  },
  {
   "cell_type": "markdown",
   "metadata": {},
   "source": [
    "\n",
    "# Deep Q Learning"
   ]
  },
  {
   "cell_type": "code",
   "execution_count": null,
   "metadata": {
    "scrolled": true
   },
   "outputs": [
    {
     "name": "stdout",
     "output_type": "stream",
     "text": [
      "Linear(in_features=8, out_features=150, bias=True)\n"
     ]
    },
    {
     "ename": "TypeError",
     "evalue": "expected np.ndarray (got tuple)",
     "output_type": "error",
     "traceback": [
      "\u001b[0;31m---------------------------------------------------------------------------\u001b[0m",
      "\u001b[0;31mTypeError\u001b[0m                                 Traceback (most recent call last)",
      "Cell \u001b[0;32mIn[25], line 14\u001b[0m\n\u001b[1;32m     11\u001b[0m state \u001b[39m=\u001b[39m env\u001b[39m.\u001b[39mreset()\n\u001b[1;32m     13\u001b[0m \u001b[39mfor\u001b[39;00m _ \u001b[39min\u001b[39;00m \u001b[39mrange\u001b[39m(max_time_steps):\n\u001b[0;32m---> 14\u001b[0m     action \u001b[39m=\u001b[39m agent\u001b[39m.\u001b[39mepsilon_greedy_action(torch\u001b[39m.\u001b[39;49mfrom_numpy(state)\u001b[39m.\u001b[39mfloat() , epsilon)\n\u001b[1;32m     15\u001b[0m     next_state, reward, terminal, _ \u001b[39m=\u001b[39m env\u001b[39m.\u001b[39mstep(action)\n\u001b[1;32m     17\u001b[0m     reward_sum \u001b[39m+\u001b[39m\u001b[39m=\u001b[39m reward\n",
      "\u001b[0;31mTypeError\u001b[0m: expected np.ndarray (got tuple)"
     ]
    },
    {
     "name": "stderr",
     "output_type": "stream",
     "text": [
      "wandb: ERROR Dropped streaming file chunk (see wandb/debug-internal.log)\n",
      "wandb: ERROR Dropped streaming file chunk (see wandb/debug-internal.log)\n",
      "wandb: ERROR Dropped streaming file chunk (see wandb/debug-internal.log)\n",
      "wandb: ERROR Dropped streaming file chunk (see wandb/debug-internal.log)\n",
      "wandb: ERROR Dropped streaming file chunk (see wandb/debug-internal.log)\n",
      "wandb: ERROR Dropped streaming file chunk (see wandb/debug-internal.log)\n",
      "wandb: ERROR Dropped streaming file chunk (see wandb/debug-internal.log)\n",
      "wandb: ERROR Dropped streaming file chunk (see wandb/debug-internal.log)\n",
      "wandb: ERROR Dropped streaming file chunk (see wandb/debug-internal.log)\n",
      "wandb: ERROR Dropped streaming file chunk (see wandb/debug-internal.log)\n",
      "wandb: ERROR Dropped streaming file chunk (see wandb/debug-internal.log)\n",
      "wandb: ERROR Dropped streaming file chunk (see wandb/debug-internal.log)\n",
      "wandb: ERROR Dropped streaming file chunk (see wandb/debug-internal.log)\n",
      "wandb: ERROR Dropped streaming file chunk (see wandb/debug-internal.log)\n",
      "wandb: ERROR Dropped streaming file chunk (see wandb/debug-internal.log)\n",
      "wandb: ERROR Dropped streaming file chunk (see wandb/debug-internal.log)\n",
      "wandb: ERROR Dropped streaming file chunk (see wandb/debug-internal.log)\n",
      "wandb: ERROR Dropped streaming file chunk (see wandb/debug-internal.log)\n",
      "wandb: ERROR Dropped streaming file chunk (see wandb/debug-internal.log)\n",
      "wandb: ERROR Dropped streaming file chunk (see wandb/debug-internal.log)\n",
      "wandb: ERROR Dropped streaming file chunk (see wandb/debug-internal.log)\n",
      "wandb: ERROR Dropped streaming file chunk (see wandb/debug-internal.log)\n",
      "wandb: ERROR Dropped streaming file chunk (see wandb/debug-internal.log)\n"
     ]
    }
   ],
   "source": [
    "agent = DQNAgent(state_dim, action_dim)\n",
    "number_of_episodes = 600\n",
    "max_time_steps = 2000\n",
    "reward_list = []\n",
    "epsilon = 1\n",
    "finals = []\n",
    "\n",
    "\n",
    "for episode in range(number_of_episodes):\n",
    "    reward_sum = 0\n",
    "    state = env.reset()\n",
    "\n",
    "    for _ in range(max_time_steps):\n",
    "        action = agent.epsilon_greedy_action(torch.from_numpy(state).float() , epsilon)\n",
    "        next_state, reward, terminal, _ = env.step(action)\n",
    "        \n",
    "        reward_sum += reward\n",
    "        agent.replay_buffer.add_to_buffer((state,next_state,[action],[reward],[terminal]))\n",
    "        state = next_state\n",
    "        if terminal:\n",
    "            clear_output(wait=True)\n",
    "            print('episode:', episode, 'sum_of_rewards_for_episode:', reward_sum)\n",
    "            reward_list.append(reward_sum)\n",
    "            finals.append(reward)\n",
    "            break\n",
    "            \n",
    "    agent.update(128)\n",
    "    \n",
    "    if epsilon > 0.2:\n",
    "        epsilon *= 0.995 #Epsilon decay\n",
    "    \n",
    "    if epsilon <= 0.2:\n",
    "        epsilon = 0.2"
   ]
  },
  {
   "cell_type": "code",
   "execution_count": null,
   "metadata": {},
   "outputs": [
    {
     "ename": "",
     "evalue": "",
     "output_type": "error",
     "traceback": [
      "\u001b[1;31mRunning cells with 'pytorch' requires ipykernel package.\n",
      "\u001b[1;31mRun the following command to install 'ipykernel' into the Python environment. \n",
      "\u001b[1;31mCommand: 'conda install -n pytorch ipykernel --update-deps --force-reinstall'"
     ]
    }
   ],
   "source": [
    "smas_ = m_a(reward_list)\n",
    "# np.where(smas_> 100)\n"
   ]
  },
  {
   "cell_type": "code",
   "execution_count": null,
   "metadata": {},
   "outputs": [
    {
     "ename": "",
     "evalue": "",
     "output_type": "error",
     "traceback": [
      "\u001b[1;31mRunning cells with 'pytorch' requires ipykernel package.\n",
      "\u001b[1;31mRun the following command to install 'ipykernel' into the Python environment. \n",
      "\u001b[1;31mCommand: 'conda install -n pytorch ipykernel --update-deps --force-reinstall'"
     ]
    }
   ],
   "source": [
    "fig, ax = plt.subplots(figsize=(10,5))\n",
    "\n",
    "ax.plot(reward_list)\n",
    "ax.plot(smas_)\n",
    "ax.set_ylabel('Rewards')\n",
    "ax.set_xlabel('Episodes')\n",
    "ax.set_title('Deep Q learning (600 episodes training)')\n",
    "plt.savefig('DQN600epma', transparent=True)"
   ]
  },
  {
   "cell_type": "markdown",
   "metadata": {},
   "source": [
    "# Visualise the Model"
   ]
  },
  {
   "cell_type": "code",
   "execution_count": null,
   "metadata": {},
   "outputs": [
    {
     "ename": "",
     "evalue": "",
     "output_type": "error",
     "traceback": [
      "\u001b[1;31mRunning cells with 'pytorch' requires ipykernel package.\n",
      "\u001b[1;31mRun the following command to install 'ipykernel' into the Python environment. \n",
      "\u001b[1;31mCommand: 'conda install -n pytorch ipykernel --update-deps --force-reinstall'"
     ]
    }
   ],
   "source": [
    "# state = env.reset()\n",
    "\n",
    "# while True:\n",
    "    \n",
    "#     env.render()\n",
    "#     action = agent.best_move(torch.from_numpy(state).float())\n",
    "    \n",
    "#     next_state, _, terminal, _ = env.step(action)\n",
    "    \n",
    "#     state = next_state\n",
    "    \n",
    "#     if terminal:\n",
    "#         break\n",
    "    \n",
    "# env.close()"
   ]
  },
  {
   "cell_type": "markdown",
   "metadata": {},
   "source": [
    "### Creating DDQN\n",
    "\n",
    "One of the flaws with a normal Deep Q-Network is that the DQN has a tendency to overestimate Q-values, which can hamper its performance in certain environments as the overestimation can result in a suboptimal policy of the agent.\n",
    "\n",
    "To resolve this overestimation problem, it was proposed in [van Hasselt, Guez, and Silver, “Deep Reinforcement Learning with Double Q-Learning.”](http://arxiv.org/abs/1509.06461) to make use of the target network to calculate the Q-Values, while still using the online (non target) network for choosing actions(Both current and next action). As such, the evaluation of each action's Q Value and the selection of actions is decoupled.\n",
    "\n",
    "![Pasted_image_20220211210223.png](data:image/png;base64,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)\n",
    "\n",
    "This results in reduced overestimation of the Q values, as shown in the above plot, where the error for the Double DQN update (in blue) is much smaller than that of the DQN update. "
   ]
  }
 ],
 "metadata": {
  "kernelspec": {
   "display_name": "pytorch",
   "language": "python",
   "name": "python3"
  },
  "language_info": {
   "codemirror_mode": {
    "name": "ipython",
    "version": 3
   },
   "file_extension": ".py",
   "mimetype": "text/x-python",
   "name": "python",
   "nbconvert_exporter": "python",
   "pygments_lexer": "ipython3",
   "version": "3.8.15"
  },
  "vscode": {
   "interpreter": {
    "hash": "515de572dba5280c34925fcb7964048816f919df9a0188b66e9456367828f433"
   }
  }
 },
 "nbformat": 4,
 "nbformat_minor": 2
}
