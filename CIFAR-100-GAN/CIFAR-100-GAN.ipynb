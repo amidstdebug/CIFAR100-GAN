{
 "cells": [
  {
   "cell_type": "markdown",
   "metadata": {},
   "source": [
    "# Great Lunar Lander with DQN\n",
    "\n",
    "**The Team:**\n",
    "* Class: DAAA/FT/2B/06\n",
    "* **Member 1**:\n",
    "    * Name: Haja Amir Rahman\n",
    "* **Member 2**:\n",
    "    * Name: Justin Wong\n",
    "\n",
    "# OpenAI: Lunar Lander V2\n",
    "\n",
    "<img src=\"https://miro.medium.com/max/1400/1*W1t--mEISwFTJNXi-qk7vw.png\" width=\"500\">\n",
    "\n",
    "Image from Medium\n",
    "\n",
    "# Goal of Notebook\n",
    "The goal of the notebook is to create a Reinforcement Learning model that can land an agent in the Lunar Lander gym environment.\n",
    "\n"
   ]
  },
  {
   "cell_type": "markdown",
   "metadata": {},
   "source": [
    "\n",
    "\n",
    "**Exanple Application of Reinforcement Learning**\n",
    "\n",
    "\n",
    "\n",
    "**Reinforcement Learning**\n",
    "\n",
    "Reinforcement Learning or RL is subset of machine learning that deals with how an agent in an environment choose a sequence of actions in order to maximise a numerical reward signal. It can also be said that RL is trying to find a balance between exploration and exploitation. Exploration is a type of decision where the agent chooses to pick an action that it would not have done. In contrast, exploitation is when the agent follows what it has always done.\n",
    "<img src=\"https://hips.hearstapps.com/hmg-prod.s3.amazonaws.com/images/fsd-1632704256.jpg\" width=\"500\">\n",
    "\n",
    "**Self-driving cars:** Since the invention of cars, people have always dreamed a future where cars could drive on its own and they do not need to worry about driving until they reach their desired destination. This futuristic idea is comming true very soon thanks to the help of Reinforcement Learning. In case of self-driving car, the agent would be the car itself while the environment is the roads along with other vehicles, pedestrians etc. The recent advancements of Reinfocement Learning in such a difficult and complex environment has allows us to inch closer and closer a self-driving car future.\n",
    "\n",
    "**OpenAI GYM**\n",
    "\n",
    "OpenAI GYM is a toolkit for developing and comparing reinforcement learning algorithms. They have a gym library that contains a variety of reinforcement learning tasks from walking in 3D space to playing arcade games like PacMan. These environments have a shared and easy-to-use interface where researchers and developers can train and compare agents using different algorithms.\n",
    "\n",
    "**OpenAI Gym Environment: LunarLander-v2**\n",
    "\n",
    "![gif](./gifs/1675422327.8682656/episode_2701.gif)\n",
    "\n",
    "Lunar Lander is one of OpenAI's gym environment where the agent is a lunar lander that tries to land on a landing pad at coordinate (0,0). These coordinate are the first 2 numbers in the state vector.\n",
    "\n",
    "There are a total of 4 discrete actions that the lander can do:\n",
    "\n",
    "1. Do nothing\n",
    "2. Fire left orientation engine\n",
    "3. Fire main engine\n",
    "4. Fire right orientation engine\n",
    "\n",
    "There are a total of 8 observation space:\n",
    "\n",
    "1. The coordinates of the lander in x\n",
    "2. The coordinates of the lander in y\n",
    "3. Its linear velocities in x\n",
    "4. Its linear velocities in y\n",
    "5. Its angle\n",
    "6. Its angular velocity\n",
    "7. If left leg is in contact with the ground\n",
    "8. If right leg is in contact with the ground\n",
    "\n",
    "Reward system of Lunar Lander:\n",
    "\n",
    "* Moving from the top of the screen to the landing pad at zero speed can range from 100 to 140 points.\n",
    "* If the lander moves away from the landing pad, it loses back the landing points.\n",
    "* The episode finishes if the lander crashes (receives -100 points) or comes to a rest (receives 100 points).\n",
    "* Each leg ground contact is an additional 10 points.\n",
    "* Firing main engine -0.3 reward per step.\n",
    "\n",
    "From the above, we can conclude that the best episode would be the one where the lander lands (**+20** for legs contact) and comes to rest (**+100** for rest) on the center of the landing pad at zero speed (**+140** for landing) with the least steps (**+200** - (count_main_engine_fire * 0.3))."
   ]
  },
  {
   "cell_type": "code",
   "execution_count": 1,
   "metadata": {},
   "outputs": [
    {
     "name": "stdout",
     "output_type": "stream",
     "text": [
      "0.26.2\n"
     ]
    }
   ],
   "source": [
    "import gym\n",
    "print(gym.__version__)"
   ]
  },
  {
   "cell_type": "markdown",
   "metadata": {},
   "source": [
    "## Importing Libraries"
   ]
  },
  {
   "cell_type": "code",
   "execution_count": 2,
   "metadata": {},
   "outputs": [
    {
     "name": "stderr",
     "output_type": "stream",
     "text": [
      "\u001b[34m\u001b[1mwandb\u001b[0m: Currently logged in as: \u001b[33mamirrahman19\u001b[0m. Use \u001b[1m`wandb login --relogin`\u001b[0m to force relogin\n"
     ]
    },
    {
     "data": {
      "application/vnd.jupyter.widget-view+json": {
       "model_id": "55d0836b1518474ba5c05fdaece7f08a",
       "version_major": 2,
       "version_minor": 0
      },
      "text/plain": [
       "VBox(children=(Label(value='Waiting for wandb.init()...\\r'), FloatProgress(value=0.016666666666666666, max=1.0…"
      ]
     },
     "metadata": {},
     "output_type": "display_data"
    },
    {
     "data": {
      "text/html": [
       "Tracking run with wandb version 0.13.9"
      ],
      "text/plain": [
       "<IPython.core.display.HTML object>"
      ]
     },
     "metadata": {},
     "output_type": "display_data"
    },
    {
     "data": {
      "text/html": [
       "Run data is saved locally in <code>C:\\Users\\amir_\\OneDrive - Singapore Polytechnic\\VSC\\PROGRAMMING\\PYTHON\\Python-SCH\\DELE CA2\\Part B\\wandb\\run-20230205_215627-9j1z6lwj</code>"
      ],
      "text/plain": [
       "<IPython.core.display.HTML object>"
      ]
     },
     "metadata": {},
     "output_type": "display_data"
    },
    {
     "data": {
      "text/html": [
       "Syncing run <strong><a href=\"https://wandb.ai/amirrahman19/Part%20B/runs/9j1z6lwj\" target=\"_blank\">virtuous-dumpling-3</a></strong> to <a href=\"https://wandb.ai/amirrahman19/Part%20B\" target=\"_blank\">Weights & Biases</a> (<a href=\"https://wandb.me/run\" target=\"_blank\">docs</a>)<br/>"
      ],
      "text/plain": [
       "<IPython.core.display.HTML object>"
      ]
     },
     "metadata": {},
     "output_type": "display_data"
    },
    {
     "data": {
      "text/html": [
       " View project at <a href=\"https://wandb.ai/amirrahman19/Part%20B\" target=\"_blank\">https://wandb.ai/amirrahman19/Part%20B</a>"
      ],
      "text/plain": [
       "<IPython.core.display.HTML object>"
      ]
     },
     "metadata": {},
     "output_type": "display_data"
    },
    {
     "data": {
      "text/html": [
       " View run at <a href=\"https://wandb.ai/amirrahman19/Part%20B/runs/9j1z6lwj\" target=\"_blank\">https://wandb.ai/amirrahman19/Part%20B/runs/9j1z6lwj</a>"
      ],
      "text/plain": [
       "<IPython.core.display.HTML object>"
      ]
     },
     "metadata": {},
     "output_type": "display_data"
    },
    {
     "data": {
      "text/html": [
       "Finishing last run (ID:9j1z6lwj) before initializing another..."
      ],
      "text/plain": [
       "<IPython.core.display.HTML object>"
      ]
     },
     "metadata": {},
     "output_type": "display_data"
    },
    {
     "data": {
      "text/html": [
       "Waiting for W&B process to finish... <strong style=\"color:green\">(success).</strong>"
      ],
      "text/plain": [
       "<IPython.core.display.HTML object>"
      ]
     },
     "metadata": {},
     "output_type": "display_data"
    },
    {
     "data": {
      "application/vnd.jupyter.widget-view+json": {
       "model_id": "34c0c214546f4a8b9521fc694c59c713",
       "version_major": 2,
       "version_minor": 0
      },
      "text/plain": [
       "VBox(children=(Label(value='0.000 MB of 0.001 MB uploaded (0.000 MB deduped)\\r'), FloatProgress(value=0.0, max…"
      ]
     },
     "metadata": {},
     "output_type": "display_data"
    },
    {
     "data": {
      "text/html": [
       " View run <strong style=\"color:#cdcd00\">virtuous-dumpling-3</strong> at: <a href=\"https://wandb.ai/amirrahman19/Part%20B/runs/9j1z6lwj\" target=\"_blank\">https://wandb.ai/amirrahman19/Part%20B/runs/9j1z6lwj</a><br/>Synced 4 W&B file(s), 0 media file(s), 0 artifact file(s) and 0 other file(s)"
      ],
      "text/plain": [
       "<IPython.core.display.HTML object>"
      ]
     },
     "metadata": {},
     "output_type": "display_data"
    },
    {
     "data": {
      "text/html": [
       "Find logs at: <code>.\\wandb\\run-20230205_215627-9j1z6lwj\\logs</code>"
      ],
      "text/plain": [
       "<IPython.core.display.HTML object>"
      ]
     },
     "metadata": {},
     "output_type": "display_data"
    },
    {
     "data": {
      "text/html": [
       "Successfully finished last run (ID:9j1z6lwj). Initializing new run:<br/>"
      ],
      "text/plain": [
       "<IPython.core.display.HTML object>"
      ]
     },
     "metadata": {},
     "output_type": "display_data"
    },
    {
     "data": {
      "application/vnd.jupyter.widget-view+json": {
       "model_id": "8ea8c07b7cd542088799378b5fc6bfb6",
       "version_major": 2,
       "version_minor": 0
      },
      "text/plain": [
       "VBox(children=(Label(value='Waiting for wandb.init()...\\r'), FloatProgress(value=0.016666666666666666, max=1.0…"
      ]
     },
     "metadata": {},
     "output_type": "display_data"
    },
    {
     "data": {
      "text/html": [
       "Tracking run with wandb version 0.13.9"
      ],
      "text/plain": [
       "<IPython.core.display.HTML object>"
      ]
     },
     "metadata": {},
     "output_type": "display_data"
    },
    {
     "data": {
      "text/html": [
       "Run data is saved locally in <code>C:\\Users\\amir_\\OneDrive - Singapore Polytechnic\\VSC\\PROGRAMMING\\PYTHON\\Python-SCH\\DELE CA2\\Part B\\wandb\\run-20230205_215630-p2oqwpyk</code>"
      ],
      "text/plain": [
       "<IPython.core.display.HTML object>"
      ]
     },
     "metadata": {},
     "output_type": "display_data"
    },
    {
     "data": {
      "text/html": [
       "Syncing run <strong><a href=\"https://wandb.ai/amirrahman19/RL/runs/p2oqwpyk\" target=\"_blank\">glowing-wonton-87</a></strong> to <a href=\"https://wandb.ai/amirrahman19/RL\" target=\"_blank\">Weights & Biases</a> (<a href=\"https://wandb.me/run\" target=\"_blank\">docs</a>)<br/>"
      ],
      "text/plain": [
       "<IPython.core.display.HTML object>"
      ]
     },
     "metadata": {},
     "output_type": "display_data"
    },
    {
     "data": {
      "text/html": [
       " View project at <a href=\"https://wandb.ai/amirrahman19/RL\" target=\"_blank\">https://wandb.ai/amirrahman19/RL</a>"
      ],
      "text/plain": [
       "<IPython.core.display.HTML object>"
      ]
     },
     "metadata": {},
     "output_type": "display_data"
    },
    {
     "data": {
      "text/html": [
       " View run at <a href=\"https://wandb.ai/amirrahman19/RL/runs/p2oqwpyk\" target=\"_blank\">https://wandb.ai/amirrahman19/RL/runs/p2oqwpyk</a>"
      ],
      "text/plain": [
       "<IPython.core.display.HTML object>"
      ]
     },
     "metadata": {},
     "output_type": "display_data"
    },
    {
     "name": "stdout",
     "output_type": "stream",
     "text": [
      "(8,)\n",
      "4\n",
      "env: \"WANDB_NOTEBOOK_NAME\"=\"DQN-Amir.ipynb\"\n"
     ]
    }
   ],
   "source": [
    "import gym\n",
    "import random\n",
    "import torch\n",
    "import torch.nn as nn\n",
    "import torch.nn.functional as F\n",
    "import torch.optim as optim\n",
    "import matplotlib.pyplot as plt\n",
    "import base64, io\n",
    "import wandb\n",
    "import random\n",
    "wandb.login()\n",
    "wandb.init()\n",
    "wandb.init(project=\"RL\", entity=\"amirrahman19\")\n",
    "save_wandb = True\n",
    "import numpy as np\n",
    "from collections import deque, namedtuple\n",
    "\n",
    "# For visualization\n",
    "from gym.wrappers.monitoring import video_recorder\n",
    "from IPython.display import HTML\n",
    "from IPython import display \n",
    "import glob\n",
    "\n",
    "env = gym.make('LunarLander-v2')\n",
    "print(env.observation_space.shape)\n",
    "print(env.action_space.n)\n",
    "%env \"WANDB_NOTEBOOK_NAME\" \"DQN-Amir.ipynb\""
   ]
  },
  {
   "cell_type": "markdown",
   "metadata": {},
   "source": [
    "## Creating Q-Network"
   ]
  },
  {
   "cell_type": "code",
   "execution_count": 3,
   "metadata": {},
   "outputs": [],
   "source": [
    "\n",
    "\n",
    "class QNetwork(nn.Module):\n",
    "    \"\"\"Actor (Policy) Model.\"\"\"\n",
    "\n",
    "    def __init__(self, state_size, action_size, seed):\n",
    "        \"\"\"Initialize parameters and build model.\n",
    "        Params\n",
    "        ======\n",
    "            state_size (int): Dimension of each state\n",
    "            action_size (int): Dimension of each action\n",
    "            seed (int): Random seed\n",
    "        \"\"\"\n",
    "        super(QNetwork, self).__init__()\n",
    "        self.seed = torch.manual_seed(seed)\n",
    "        self.fc1 = nn.Linear(state_size, 64)\n",
    "        self.fc2 = nn.Linear(64, 64)\n",
    "        self.fc3 = nn.Linear(64, action_size)\n",
    "        \n",
    "    def forward(self, state):\n",
    "        \"\"\"Build a network that maps state -> action values.\"\"\"\n",
    "        x = self.fc1(state)\n",
    "        x = F.relu(x)\n",
    "        x = self.fc2(x)\n",
    "        x = F.relu(x)\n",
    "        return self.fc3(x)\n",
    "        \n",
    "BUFFER_SIZE = int(1e5)  # replay buffer size\n",
    "BATCH_SIZE = 128         # minibatch size\n",
    "GAMMA = 0.99            # discount factor\n",
    "TAU = 1e-3              # for soft update of target parameters\n",
    "LR = 5e-4               # learning rate \n",
    "# LR = 0.01               # learning rate\n",
    "UPDATE_EVERY = 7        # how often to update the target network\n",
    "\n",
    "device = torch.device(\"cuda:0\" if torch.cuda.is_available() else \"cpu\")\n",
    "\n"
   ]
  },
  {
   "cell_type": "markdown",
   "metadata": {},
   "source": [
    "## Creating Agent"
   ]
  },
  {
   "cell_type": "code",
   "execution_count": 4,
   "metadata": {},
   "outputs": [],
   "source": [
    "class Agent():\n",
    "    \"\"\"Interacts with and learns from the environment.\"\"\"\n",
    "\n",
    "    def __init__(self, state_size, action_size, seed):\n",
    "        \"\"\"Initialize an Agent object.\n",
    "        \n",
    "        Params\n",
    "        ======\n",
    "            state_size (int): dimension of each state\n",
    "            action_size (int): dimension of each action\n",
    "            seed (int): random seed\n",
    "        \"\"\"\n",
    "        self.state_size = state_size\n",
    "        self.action_size = action_size\n",
    "        self.seed = random.seed(seed)\n",
    "\n",
    "        # Q-Network\n",
    "        self.qnetwork_local = QNetwork(state_size, action_size, seed).to(device)\n",
    "        self.qnetwork_target = QNetwork(state_size, action_size, seed).to(device)\n",
    "        self.optimizer = optim.Adam(self.qnetwork_local.parameters(), lr=LR)\n",
    "\n",
    "        # Replay memory\n",
    "        self.memory = ReplayBuffer(action_size, BUFFER_SIZE, BATCH_SIZE, seed)\n",
    "        # Initialize time step (for updating every UPDATE_EVERY steps)\n",
    "        self.t_step = 0\n",
    "    \n",
    "    def step(self, state, action, reward, next_state, done):\n",
    "        # Save experience in replay memory\n",
    "        self.memory.add(state, action, reward, next_state, done)\n",
    "        \n",
    "        # Learn every UPDATE_EVERY time steps.\n",
    "        self.t_step = (self.t_step + 1) % UPDATE_EVERY\n",
    "        if self.t_step == 0:\n",
    "            # If enough samples are available in memory, get random subset and learn\n",
    "            if len(self.memory) > BATCH_SIZE:\n",
    "                experiences = self.memory.sample()\n",
    "                self.learn(experiences, GAMMA)\n",
    "\n",
    "    def act(self, state, eps=0.):\n",
    "        \"\"\"Returns actions for given state as per current policy.\n",
    "        \n",
    "        Params\n",
    "        ======\n",
    "            state (array_like): current state\n",
    "            eps (float): epsilon, for epsilon-greedy action selection\n",
    "        \"\"\"\n",
    "        state = torch.from_numpy(state).float().unsqueeze(0).to(device)\n",
    "        self.qnetwork_local.eval()\n",
    "        with torch.no_grad():\n",
    "            action_values = self.qnetwork_local(state)\n",
    "        self.qnetwork_local.train()\n",
    "\n",
    "        # Epsilon-greedy action selection\n",
    "        if random.random() > eps:\n",
    "            return np.argmax(action_values.cpu().data.numpy())\n",
    "        else:\n",
    "            return random.choice(np.arange(self.action_size))\n",
    "\n",
    "    def learn(self, experiences, gamma):\n",
    "        \"\"\"Update value parameters using given batch of experience tuples.\n",
    "\n",
    "        Params\n",
    "        ======\n",
    "            experiences (Tuple[torch.Variable]): tuple of (s, a, r, s', done) tuples \n",
    "            gamma (float): discount factor\n",
    "        \"\"\"\n",
    "        # Obtain random minibatch of tuples from D\n",
    "        states, actions, rewards, next_states, dones = experiences\n",
    "\n",
    "        ## Compute and minimize the loss\n",
    "        ### Extract next maximum estimated value from target network\n",
    "        q_targets_next = self.qnetwork_target(next_states).detach().max(1)[0].unsqueeze(1)\n",
    "        ### Calculate target value from bellman equation\n",
    "        q_targets = rewards + gamma * q_targets_next * (1 - dones)\n",
    "        ### Calculate expected value from local network\n",
    "        q_expected = self.qnetwork_local(states).gather(1, actions)\n",
    "        \n",
    "        ### Loss calculation (we used Mean squared error)\n",
    "        loss = F.mse_loss(q_expected, q_targets)\n",
    "        self.optimizer.zero_grad()\n",
    "        loss.backward()\n",
    "        self.optimizer.step()\n",
    "        # wandb.log({'Loss': loss})\n",
    "        # ------------------- update target network ------------------- #\n",
    "        self.soft_update(self.qnetwork_local, self.qnetwork_target, TAU)                     \n",
    "\n",
    "    def soft_update(self, local_model, target_model, tau):\n",
    "        \"\"\"Soft update model parameters.\n",
    "        θ_target = τ*θ_local + (1 - τ)*θ_target\n",
    "\n",
    "        Params\n",
    "        ======\n",
    "            local_model (PyTorch model): weights will be copied from\n",
    "            target_model (PyTorch model): weights will be copied to\n",
    "            tau (float): interpolation parameter \n",
    "        \"\"\"\n",
    "        for target_param, local_param in zip(target_model.parameters(), local_model.parameters()):\n",
    "            target_param.data.copy_(tau*local_param.data + (1.0-tau)*target_param.data)\n",
    "\n"
   ]
  },
  {
   "cell_type": "markdown",
   "metadata": {},
   "source": [
    "## Creating ReplayBuffer\n"
   ]
  },
  {
   "cell_type": "code",
   "execution_count": 5,
   "metadata": {},
   "outputs": [],
   "source": [
    "class ReplayBuffer:\n",
    "    \"\"\"Fixed-size buffer to store experience tuples.\"\"\"\n",
    "\n",
    "    def __init__(self, action_size, buffer_size, batch_size, seed):\n",
    "        \"\"\"Initialize a ReplayBuffer object.\n",
    "\n",
    "        Params\n",
    "        ======\n",
    "            action_size (int): dimension of each action\n",
    "            buffer_size (int): maximum size of buffer\n",
    "            batch_size (int): size of each training batch\n",
    "            seed (int): random seed\n",
    "        \"\"\"\n",
    "        self.action_size = action_size\n",
    "        self.memory = deque(maxlen=buffer_size)  \n",
    "        self.batch_size = batch_size\n",
    "        self.experience = namedtuple(\"Experience\", field_names=[\"state\", \"action\", \"reward\", \"next_state\", \"done\"])\n",
    "        self.seed = random.seed(seed)\n",
    "    \n",
    "    def add(self, state, action, reward, next_state, done):\n",
    "        \"\"\"Add a new experience to memory.\"\"\"\n",
    "        e = self.experience(state, action, reward, next_state, done)\n",
    "        self.memory.append(e)\n",
    "    \n",
    "    def sample(self):\n",
    "        \"\"\"Randomly sample a batch of experiences from memory.\"\"\"\n",
    "        experiences = random.sample(self.memory, k=self.batch_size)\n",
    "\n",
    "        states = torch.from_numpy(np.vstack([e.state for e in experiences if e is not None])).float().to(device)\n",
    "        actions = torch.from_numpy(np.vstack([e.action for e in experiences if e is not None])).long().to(device)\n",
    "        rewards = torch.from_numpy(np.vstack([e.reward for e in experiences if e is not None])).float().to(device)\n",
    "        next_states = torch.from_numpy(np.vstack([e.next_state for e in experiences if e is not None])).float().to(device)\n",
    "        dones = torch.from_numpy(np.vstack([e.done for e in experiences if e is not None]).astype(np.uint8)).float().to(device)\n",
    "\n",
    "        return (states, actions, rewards, next_states, dones)\n",
    "\n",
    "    def __len__(self):\n",
    "        \"\"\"Return the current size of internal memory.\"\"\"\n",
    "        return len(self.memory)\n",
    "\n"
   ]
  },
  {
   "cell_type": "markdown",
   "metadata": {},
   "source": [
    "## Creating GIF Function\n",
    "### This is allows us to witness the progress of the agent every nth episode specified"
   ]
  },
  {
   "cell_type": "code",
   "execution_count": 6,
   "metadata": {},
   "outputs": [],
   "source": [
    "from matplotlib import animation\n",
    "import matplotlib.pyplot as plt\n",
    "import gym \n",
    "\n",
    "\"\"\"\n",
    "Ensure you have imagemagick installed with \n",
    "sudo apt-get install imagemagick\n",
    "Open file in CLI with:\n",
    "xgd-open <filelname>\n",
    "\"\"\"\n",
    "# def save_frames_as_gif(frames, path='./', filename='gym_animation.gif'):\n",
    "\n",
    "#     #Mess with this to change frame size\n",
    "#     plt.figure(figsize=(frames[0].shape[1] / 72.0, frames[0].shape[0] / 72.0), dpi=72)\n",
    "\n",
    "#     patch = plt.imshow(frames[0])\n",
    "#     plt.axis('off')\n",
    "\n",
    "#     def animate(i):\n",
    "#         patch.set_data(frames[i])\n",
    "\n",
    "#     anim = animation.FuncAnimation(plt.gcf(), animate, frames = len(frames), interval=50)\n",
    "#     anim.save(path + filename, writer='imagemagick', fps=60)\n",
    "\n",
    "from PIL import Image\n",
    "\n",
    "def save_frames_as_gif(frames, path, filename):\n",
    "  im1 = Image.fromarray(frames[0])\n",
    "  others = [Image.fromarray(i) for i in frames[1:]]\n",
    "  im1.save(f'{path}/{filename}', save_all=True, append_images=others, duration=30, loop=0)\n",
    "\n",
    "\n",
    "def gif(agent, path, filename):\n",
    "  env = gym.make('LunarLander-v2', render_mode='rgb_array')\n",
    "  state = env.reset()[0]\n",
    "  frames = []\n",
    "\n",
    "  for _ in range(2000):\n",
    "    rendered = env.render()\n",
    "    frames.append(rendered) \n",
    "    action = agent.act(state, 0)\n",
    "    next_state, reward, done, truncated, info = env.step(action)\n",
    "    state = next_state\n",
    "\n",
    "    if done or truncated:\n",
    "      env.close()\n",
    "      save_frames_as_gif(frames, path, filename)\n",
    "      return"
   ]
  },
  {
   "cell_type": "markdown",
   "metadata": {},
   "source": [
    "### Creating DQN\n",
    "\n",
    "Deep Q-Network or DQN in short was first proposed by the researchers in Google Deep Mind ([Mnih et al, 2013, 2015](https://www.nature.com/articles/nature14236?wm=book_wap_0005)) which was able to learn 49 different Atari 2600 games simply through a screen. Essentially, Deep Q-Network is a reinforcement learning algorithm that **combines Q-learning with deep neural networks**. This combination allows the agent to learn on complex and high dimensional environments such as video games.\n",
    "\n",
    "**The Model**\n",
    "\n",
    "For this notebook, when I create an instance of the DQN class, it will initialise the model and cloning it for the target model. Both models contains a Dense layer with 512 units with a ReLU activation with an input dimension equal to the **number of observation space** in the environment. Then, there is a hidden Dense layer with 256 units with a ReLu activation. This layer is then connected to a final Dense layer with the number of units equal to the number of **possible action space** for the agent. The model is compile with mean squared error with an Adam optimizer that has a configurable learning rate.\n",
    "\n",
    "**Exploration and Exploitation Trade-off**\n",
    "\n",
    "During training, for every step in every episode, there is a function that takes in the current state where the model will try to **estimate the q-values for each action** from the current state (Exploitation). However, there is a probability where if a randomly chosen number is lower than epsilon, a random action will be returned (i.e. Exploration).\n",
    "\n",
    "**Experience Replay**\n",
    "\n",
    "The returned action will be executed for that step which returns the next state, the reward for that step, whether the episode is done. These variables is then **stored as an experience** in a buffer. A buffer is where the agent keep records of all the state transitions it encountered so it can randomly sample and learn from them later. The memory-buffer used to store this is often referred to as Experience Replay.\n",
    "\n",
    "**Bellman Equation**\n",
    "\n",
    "After that, if there is enough experience, the model will sample some experiences for training. The model then use the Bellman Equation for the **model's target value**, where the expected return value is equal to the reward plus the discounted factor multiplied by the maximum value of the next state predicted by the target model. The state and the target value is then fitted into the model.\n",
    "\n",
    "**Target Network**\n",
    "\n",
    "The purpose of the target network is to **stabilize the training** of the model. This is because the target network prevents the training process from spiraling around. Since we are fixing the targets for multiple time steps, it allows the online network weights to move consistently towards the targets before an update. In our case, the frequency of updating the target network is configurable."
   ]
  },
  {
   "cell_type": "code",
   "execution_count": 7,
   "metadata": {},
   "outputs": [],
   "source": [
    "import time\n",
    "import os\n",
    "\n",
    "def calc_success_rate(scores, threshold=200.0):\n",
    "    \"\"\"Calculates the success rate based on a list of scores.\n",
    "\n",
    "    Params\n",
    "    ======\n",
    "        scores (list): list of scores obtained by the agent\n",
    "        threshold (float): the minimum score required for success\n",
    "\n",
    "    Returns\n",
    "    =======\n",
    "        success_rate (float): the success rate of the agent\n",
    "    \"\"\"\n",
    "    success = 0\n",
    "    for score in scores:\n",
    "        if score >= threshold:\n",
    "            success += 1\n",
    "    success_rate = success / len(scores)\n",
    "    return success_rate\n",
    "\n",
    "def dqn(n_episodes=2000, max_t=1000, eps_start=1.0, eps_end=0.01, eps_decay=0.995):\n",
    "    gif_folder = 'gifs/' + str(time.time())\n",
    "    os.mkdir(gif_folder)\n",
    "    \"\"\"Deep Q-Learning.\n",
    "    \n",
    "    Params\n",
    "    ======\n",
    "        n_episodes (int): maximum number of training episodes\n",
    "        max_t (int): maximum number of timesteps per episode\n",
    "        eps_start (float): starting value of epsilon, for epsilon-greedy action selection\n",
    "        eps_end (float): minimum value of epsilon\n",
    "        eps_decay (float): multiplicative factor (per episode) for decreasing epsilon\n",
    "    \"\"\"\n",
    "    scores = []                        # list containing scores from each episode\n",
    "    scores_window = deque(maxlen=100)  # last 100 scores\n",
    "    reward_window = deque(maxlen=100)  # last 100 rewards\n",
    "    eps = eps_start                    # initialize epsilon\n",
    "    \n",
    "    \n",
    "    print('starting training')\n",
    "    for i_episode in range(1, n_episodes+1):\n",
    "        states = []\n",
    "        state = env.reset()[0]\n",
    "        score = 0\n",
    "        for t in range(max_t):\n",
    "            action = agent.act(state, eps)\n",
    "            # print(f'{t=} ACTION', action)\n",
    "            next_state, reward, done, *_ = env.step(action)\n",
    "            states.append(next_state)\n",
    "            agent.step(state, action, reward, next_state, done)\n",
    "            state = next_state\n",
    "            score += reward\n",
    "            if done:\n",
    "                break \n",
    "        scores_window.append(score)       # save most recent score\n",
    "        reward_window.append(reward)\n",
    "        eps = max(eps_end, eps_decay*eps) # decrease epsilon\n",
    "\n",
    "        print('\\rEpisode {}\\tAverage Score: {:.2f}'.format(i_episode, np.mean(scores_window)), end=\"\")\n",
    "        if i_episode % 100 == 0:\n",
    "            print('\\rEpisode {}\\tAverage Score: {:.2f}'.format(i_episode, np.mean(scores_window)))\n",
    "        scores.append(dict(\n",
    "          episode=i_episode,\n",
    "          epsilon=eps,\n",
    "            average_score=np.mean(scores_window),\n",
    "            success_rate=calc_success_rate(scores_window),\n",
    "            average_reward=np.mean(reward_window)\n",
    "            \n",
    "        ))\n",
    "\n",
    "        # saving GIF\n",
    "        if i_episode % 100 == 1:\n",
    "          gif(agent, path=gif_folder, filename=f'episode_{i_episode}.gif')\n",
    "        \n",
    "   \n",
    "        \n",
    "        wandb.log({'Episode': i_episode, 'Average Reward': np.mean(reward_window), 'Epsilon': eps,  'Average Score': np.mean(scores_window), \n",
    "                   'Success Rate': calc_success_rate(scores_window)})\n",
    "\n",
    "        if np.mean(scores_window)>=250.0:\n",
    "            print('\\nEnvironment solved in {:d} episodes!\\tAverage Score: {:.2f}'.format(i_episode-100, np.mean(scores_window)))\n",
    "            torch.save(agent.qnetwork_local.state_dict(), 'saved_models/dqn.pth')\n",
    "            break\n",
    "    return scores\n"
   ]
  },
  {
   "cell_type": "code",
   "execution_count": 8,
   "metadata": {},
   "outputs": [
    {
     "name": "stdout",
     "output_type": "stream",
     "text": [
      "starting training\n",
      "Episode 100\tAverage Score: -191.15\n",
      "Episode 200\tAverage Score: -131.76\n",
      "Episode 300\tAverage Score: -99.664\n",
      "Episode 400\tAverage Score: -19.73\n",
      "Episode 500\tAverage Score: -13.42\n",
      "Episode 600\tAverage Score: 54.916\n",
      "Episode 700\tAverage Score: 80.83\n",
      "Episode 800\tAverage Score: 110.82\n",
      "Episode 900\tAverage Score: 129.85\n",
      "Episode 1000\tAverage Score: 159.14\n",
      "Episode 1100\tAverage Score: 184.42\n",
      "Episode 1200\tAverage Score: 195.95\n",
      "Episode 1300\tAverage Score: 186.77\n",
      "Episode 1400\tAverage Score: 170.35\n",
      "Episode 1500\tAverage Score: 168.08\n",
      "Episode 1600\tAverage Score: 139.96\n",
      "Episode 1700\tAverage Score: 174.06\n",
      "Episode 1800\tAverage Score: 147.89\n",
      "Episode 1900\tAverage Score: 184.61\n",
      "Episode 1943\tAverage Score: 180.27"
     ]
    },
    {
     "ename": "KeyboardInterrupt",
     "evalue": "",
     "output_type": "error",
     "traceback": [
      "\u001b[1;31m---------------------------------------------------------------------------\u001b[0m",
      "\u001b[1;31mKeyboardInterrupt\u001b[0m                         Traceback (most recent call last)",
      "Cell \u001b[1;32mIn[8], line 2\u001b[0m\n\u001b[0;32m      1\u001b[0m agent \u001b[38;5;241m=\u001b[39m Agent(state_size\u001b[38;5;241m=\u001b[39m\u001b[38;5;241m8\u001b[39m, action_size\u001b[38;5;241m=\u001b[39m\u001b[38;5;241m4\u001b[39m, seed\u001b[38;5;241m=\u001b[39m\u001b[38;5;241m42\u001b[39m)\n\u001b[1;32m----> 2\u001b[0m scores \u001b[38;5;241m=\u001b[39m \u001b[43mdqn\u001b[49m\u001b[43m(\u001b[49m\u001b[43mn_episodes\u001b[49m\u001b[38;5;241;43m=\u001b[39;49m\u001b[38;5;241;43m10000\u001b[39;49m\u001b[43m)\u001b[49m\n",
      "Cell \u001b[1;32mIn[7], line 52\u001b[0m, in \u001b[0;36mdqn\u001b[1;34m(n_episodes, max_t, eps_start, eps_end, eps_decay)\u001b[0m\n\u001b[0;32m     50\u001b[0m next_state, reward, done, \u001b[38;5;241m*\u001b[39m_ \u001b[38;5;241m=\u001b[39m env\u001b[38;5;241m.\u001b[39mstep(action)\n\u001b[0;32m     51\u001b[0m states\u001b[38;5;241m.\u001b[39mappend(next_state)\n\u001b[1;32m---> 52\u001b[0m \u001b[43magent\u001b[49m\u001b[38;5;241;43m.\u001b[39;49m\u001b[43mstep\u001b[49m\u001b[43m(\u001b[49m\u001b[43mstate\u001b[49m\u001b[43m,\u001b[49m\u001b[43m \u001b[49m\u001b[43maction\u001b[49m\u001b[43m,\u001b[49m\u001b[43m \u001b[49m\u001b[43mreward\u001b[49m\u001b[43m,\u001b[49m\u001b[43m \u001b[49m\u001b[43mnext_state\u001b[49m\u001b[43m,\u001b[49m\u001b[43m \u001b[49m\u001b[43mdone\u001b[49m\u001b[43m)\u001b[49m\n\u001b[0;32m     53\u001b[0m state \u001b[38;5;241m=\u001b[39m next_state\n\u001b[0;32m     54\u001b[0m score \u001b[38;5;241m+\u001b[39m\u001b[38;5;241m=\u001b[39m reward\n",
      "Cell \u001b[1;32mIn[4], line 36\u001b[0m, in \u001b[0;36mAgent.step\u001b[1;34m(self, state, action, reward, next_state, done)\u001b[0m\n\u001b[0;32m     33\u001b[0m \u001b[38;5;28;01mif\u001b[39;00m \u001b[38;5;28mself\u001b[39m\u001b[38;5;241m.\u001b[39mt_step \u001b[38;5;241m==\u001b[39m \u001b[38;5;241m0\u001b[39m:\n\u001b[0;32m     34\u001b[0m     \u001b[38;5;66;03m# If enough samples are available in memory, get random subset and learn\u001b[39;00m\n\u001b[0;32m     35\u001b[0m     \u001b[38;5;28;01mif\u001b[39;00m \u001b[38;5;28mlen\u001b[39m(\u001b[38;5;28mself\u001b[39m\u001b[38;5;241m.\u001b[39mmemory) \u001b[38;5;241m>\u001b[39m BATCH_SIZE:\n\u001b[1;32m---> 36\u001b[0m         experiences \u001b[38;5;241m=\u001b[39m \u001b[38;5;28;43mself\u001b[39;49m\u001b[38;5;241;43m.\u001b[39;49m\u001b[43mmemory\u001b[49m\u001b[38;5;241;43m.\u001b[39;49m\u001b[43msample\u001b[49m\u001b[43m(\u001b[49m\u001b[43m)\u001b[49m\n\u001b[0;32m     37\u001b[0m         \u001b[38;5;28mself\u001b[39m\u001b[38;5;241m.\u001b[39mlearn(experiences, GAMMA)\n",
      "Cell \u001b[1;32mIn[5], line 29\u001b[0m, in \u001b[0;36mReplayBuffer.sample\u001b[1;34m(self)\u001b[0m\n\u001b[0;32m     26\u001b[0m \u001b[38;5;250m\u001b[39m\u001b[38;5;124;03m\"\"\"Randomly sample a batch of experiences from memory.\"\"\"\u001b[39;00m\n\u001b[0;32m     27\u001b[0m experiences \u001b[38;5;241m=\u001b[39m random\u001b[38;5;241m.\u001b[39msample(\u001b[38;5;28mself\u001b[39m\u001b[38;5;241m.\u001b[39mmemory, k\u001b[38;5;241m=\u001b[39m\u001b[38;5;28mself\u001b[39m\u001b[38;5;241m.\u001b[39mbatch_size)\n\u001b[1;32m---> 29\u001b[0m states \u001b[38;5;241m=\u001b[39m torch\u001b[38;5;241m.\u001b[39mfrom_numpy(\u001b[43mnp\u001b[49m\u001b[38;5;241;43m.\u001b[39;49m\u001b[43mvstack\u001b[49m\u001b[43m(\u001b[49m\u001b[43m[\u001b[49m\u001b[43me\u001b[49m\u001b[38;5;241;43m.\u001b[39;49m\u001b[43mstate\u001b[49m\u001b[43m \u001b[49m\u001b[38;5;28;43;01mfor\u001b[39;49;00m\u001b[43m \u001b[49m\u001b[43me\u001b[49m\u001b[43m \u001b[49m\u001b[38;5;129;43;01min\u001b[39;49;00m\u001b[43m \u001b[49m\u001b[43mexperiences\u001b[49m\u001b[43m \u001b[49m\u001b[38;5;28;43;01mif\u001b[39;49;00m\u001b[43m \u001b[49m\u001b[43me\u001b[49m\u001b[43m \u001b[49m\u001b[38;5;129;43;01mis\u001b[39;49;00m\u001b[43m \u001b[49m\u001b[38;5;129;43;01mnot\u001b[39;49;00m\u001b[43m \u001b[49m\u001b[38;5;28;43;01mNone\u001b[39;49;00m\u001b[43m]\u001b[49m\u001b[43m)\u001b[49m)\u001b[38;5;241m.\u001b[39mfloat()\u001b[38;5;241m.\u001b[39mto(device)\n\u001b[0;32m     30\u001b[0m actions \u001b[38;5;241m=\u001b[39m torch\u001b[38;5;241m.\u001b[39mfrom_numpy(np\u001b[38;5;241m.\u001b[39mvstack([e\u001b[38;5;241m.\u001b[39maction \u001b[38;5;28;01mfor\u001b[39;00m e \u001b[38;5;129;01min\u001b[39;00m experiences \u001b[38;5;28;01mif\u001b[39;00m e \u001b[38;5;129;01mis\u001b[39;00m \u001b[38;5;129;01mnot\u001b[39;00m \u001b[38;5;28;01mNone\u001b[39;00m]))\u001b[38;5;241m.\u001b[39mlong()\u001b[38;5;241m.\u001b[39mto(device)\n\u001b[0;32m     31\u001b[0m rewards \u001b[38;5;241m=\u001b[39m torch\u001b[38;5;241m.\u001b[39mfrom_numpy(np\u001b[38;5;241m.\u001b[39mvstack([e\u001b[38;5;241m.\u001b[39mreward \u001b[38;5;28;01mfor\u001b[39;00m e \u001b[38;5;129;01min\u001b[39;00m experiences \u001b[38;5;28;01mif\u001b[39;00m e \u001b[38;5;129;01mis\u001b[39;00m \u001b[38;5;129;01mnot\u001b[39;00m \u001b[38;5;28;01mNone\u001b[39;00m]))\u001b[38;5;241m.\u001b[39mfloat()\u001b[38;5;241m.\u001b[39mto(device)\n",
      "File \u001b[1;32m<__array_function__ internals>:180\u001b[0m, in \u001b[0;36mvstack\u001b[1;34m(*args, **kwargs)\u001b[0m\n",
      "File \u001b[1;32m~\\anaconda3\\envs\\pytorch\\lib\\site-packages\\numpy\\core\\shape_base.py:282\u001b[0m, in \u001b[0;36mvstack\u001b[1;34m(tup)\u001b[0m\n\u001b[0;32m    280\u001b[0m \u001b[38;5;28;01mif\u001b[39;00m \u001b[38;5;129;01mnot\u001b[39;00m \u001b[38;5;28misinstance\u001b[39m(arrs, \u001b[38;5;28mlist\u001b[39m):\n\u001b[0;32m    281\u001b[0m     arrs \u001b[38;5;241m=\u001b[39m [arrs]\n\u001b[1;32m--> 282\u001b[0m \u001b[38;5;28;01mreturn\u001b[39;00m \u001b[43m_nx\u001b[49m\u001b[38;5;241;43m.\u001b[39;49m\u001b[43mconcatenate\u001b[49m\u001b[43m(\u001b[49m\u001b[43marrs\u001b[49m\u001b[43m,\u001b[49m\u001b[43m \u001b[49m\u001b[38;5;241;43m0\u001b[39;49m\u001b[43m)\u001b[49m\n",
      "File \u001b[1;32m<__array_function__ internals>:180\u001b[0m, in \u001b[0;36mconcatenate\u001b[1;34m(*args, **kwargs)\u001b[0m\n",
      "\u001b[1;31mKeyboardInterrupt\u001b[0m: "
     ]
    }
   ],
   "source": [
    "agent = Agent(state_size=8, action_size=4, seed=42)\n",
    "scores = dqn(n_episodes=10000)\n",
    "\n"
   ]
  },
  {
   "cell_type": "markdown",
   "metadata": {},
   "source": [
    "## Visualizing Final results\n",
    "### Alternatively can refer to screenshots from wandb api"
   ]
  },
  {
   "cell_type": "code",
   "execution_count": 9,
   "metadata": {},
   "outputs": [
    {
     "ename": "NameError",
     "evalue": "name 'scores' is not defined",
     "output_type": "error",
     "traceback": [
      "\u001b[1;31m---------------------------------------------------------------------------\u001b[0m",
      "\u001b[1;31mNameError\u001b[0m                                 Traceback (most recent call last)",
      "Cell \u001b[1;32mIn[9], line 1\u001b[0m\n\u001b[1;32m----> 1\u001b[0m episodes \u001b[38;5;241m=\u001b[39m [item[\u001b[38;5;124m'\u001b[39m\u001b[38;5;124mepisode\u001b[39m\u001b[38;5;124m'\u001b[39m] \u001b[38;5;28;01mfor\u001b[39;00m item \u001b[38;5;129;01min\u001b[39;00m \u001b[43mscores\u001b[49m]\n\u001b[0;32m      2\u001b[0m epsilons \u001b[38;5;241m=\u001b[39m [item[\u001b[38;5;124m'\u001b[39m\u001b[38;5;124mepsilon\u001b[39m\u001b[38;5;124m'\u001b[39m] \u001b[38;5;28;01mfor\u001b[39;00m item \u001b[38;5;129;01min\u001b[39;00m scores]\n\u001b[0;32m      3\u001b[0m average_score_list \u001b[38;5;241m=\u001b[39m [item[\u001b[38;5;124m'\u001b[39m\u001b[38;5;124maverage_score\u001b[39m\u001b[38;5;124m'\u001b[39m] \u001b[38;5;28;01mfor\u001b[39;00m item \u001b[38;5;129;01min\u001b[39;00m scores]\n",
      "\u001b[1;31mNameError\u001b[0m: name 'scores' is not defined"
     ]
    }
   ],
   "source": [
    "episodes = [item['episode'] for item in scores]\n",
    "epsilons = [item['epsilon'] for item in scores]\n",
    "average_score_list = [item['average_score'] for item in scores]\n",
    "success_rate_list = [item['success_rate'] for item in scores]\n",
    "average_rewards_list = [item['average_reward'] for item in scores]\n",
    "\n",
    "\n",
    "fig, (ax1, ax2, ax3, ax4) = plt.subplots(4, 1, figsize=(7,8))\n",
    "\n",
    "ax1.set_xlabel('Episode')\n",
    "ax1.set_ylabel('Average Reward')\n",
    "ax1.plot(episodes, average_rewards_list)\n",
    "\n",
    "ax2.set_xlabel('Episode')\n",
    "ax2.set_ylabel('Epsilon')\n",
    "ax2.plot(episodes, epsilons)\n",
    "\n",
    "\n",
    "ax3.set_xlabel('Episode')\n",
    "ax3.set_ylabel('Average Score')\n",
    "ax3.plot(episodes, average_score_list)\n",
    "\n",
    "ax4.set_xlabel('Episode')\n",
    "ax4.set_ylabel('Success Rate')\n",
    "ax4.plot(episodes, success_rate_list)\n",
    "\n",
    "\n",
    "fig.tight_layout()\n",
    "plt.show()\n"
   ]
  },
  {
   "cell_type": "code",
   "execution_count": null,
   "metadata": {},
   "outputs": [],
   "source": [
    "agent = Agent(state_size=8, action_size=4, seed=0)\n",
    "agent.qnetwork_local.load_state_dict(torch.load('saved_models/dqn.pth'))\n",
    "\n",
    "env = gym.make('LunarLander-v2', render_mode='human')\n",
    "state = env.reset()[0]\n",
    "\n",
    "for _ in range(10000):\n",
    "    action = agent.act(state, 0)\n",
    "    next_state, reward, done, truncated, info = env.step(action)\n",
    "    state = next_state\n",
    "\n",
    "    if done or truncated:\n",
    "        observation, info = env.reset()\n",
    "\n",
    "env.close()"
   ]
  },
  {
   "cell_type": "markdown",
   "metadata": {},
   "source": [
    "# Hyperparameter Tuning"
   ]
  },
  {
   "cell_type": "markdown",
   "metadata": {},
   "source": [
    "## Creating Q-Network"
   ]
  },
  {
   "cell_type": "code",
   "execution_count": 1,
   "metadata": {},
   "outputs": [
    {
     "name": "stdout",
     "output_type": "stream",
     "text": [
      "0.26.2\n"
     ]
    }
   ],
   "source": [
    "import gym\n",
    "print(gym.__version__)"
   ]
  },
  {
   "cell_type": "code",
   "execution_count": 2,
   "metadata": {},
   "outputs": [
    {
     "name": "stderr",
     "output_type": "stream",
     "text": [
      "\u001b[34m\u001b[1mwandb\u001b[0m: Currently logged in as: \u001b[33mamirrahman19\u001b[0m. Use \u001b[1m`wandb login --relogin`\u001b[0m to force relogin\n"
     ]
    },
    {
     "data": {
      "application/vnd.jupyter.widget-view+json": {
       "model_id": "677472304ebf4170a28d34382a1aedd7",
       "version_major": 2,
       "version_minor": 0
      },
      "text/plain": [
       "VBox(children=(Label(value='Waiting for wandb.init()...\\r'), FloatProgress(value=0.016666666666666666, max=1.0…"
      ]
     },
     "metadata": {},
     "output_type": "display_data"
    },
    {
     "data": {
      "text/html": [
       "Tracking run with wandb version 0.13.9"
      ],
      "text/plain": [
       "<IPython.core.display.HTML object>"
      ]
     },
     "metadata": {},
     "output_type": "display_data"
    },
    {
     "data": {
      "text/html": [
       "Run data is saved locally in <code>C:\\Users\\amir_\\OneDrive - Singapore Polytechnic\\VSC\\PROGRAMMING\\PYTHON\\Python-SCH\\DELE CA2\\Part B\\wandb\\run-20230205_210746-3ex428b0</code>"
      ],
      "text/plain": [
       "<IPython.core.display.HTML object>"
      ]
     },
     "metadata": {},
     "output_type": "display_data"
    },
    {
     "data": {
      "text/html": [
       "Syncing run <strong><a href=\"https://wandb.ai/amirrahman19/Part%20B/runs/3ex428b0\" target=\"_blank\">golden-paper-2</a></strong> to <a href=\"https://wandb.ai/amirrahman19/Part%20B\" target=\"_blank\">Weights & Biases</a> (<a href=\"https://wandb.me/run\" target=\"_blank\">docs</a>)<br/>"
      ],
      "text/plain": [
       "<IPython.core.display.HTML object>"
      ]
     },
     "metadata": {},
     "output_type": "display_data"
    },
    {
     "data": {
      "text/html": [
       " View project at <a href=\"https://wandb.ai/amirrahman19/Part%20B\" target=\"_blank\">https://wandb.ai/amirrahman19/Part%20B</a>"
      ],
      "text/plain": [
       "<IPython.core.display.HTML object>"
      ]
     },
     "metadata": {},
     "output_type": "display_data"
    },
    {
     "data": {
      "text/html": [
       " View run at <a href=\"https://wandb.ai/amirrahman19/Part%20B/runs/3ex428b0\" target=\"_blank\">https://wandb.ai/amirrahman19/Part%20B/runs/3ex428b0</a>"
      ],
      "text/plain": [
       "<IPython.core.display.HTML object>"
      ]
     },
     "metadata": {},
     "output_type": "display_data"
    },
    {
     "data": {
      "text/html": [
       "Finishing last run (ID:3ex428b0) before initializing another..."
      ],
      "text/plain": [
       "<IPython.core.display.HTML object>"
      ]
     },
     "metadata": {},
     "output_type": "display_data"
    },
    {
     "data": {
      "text/html": [
       "Waiting for W&B process to finish... <strong style=\"color:green\">(success).</strong>"
      ],
      "text/plain": [
       "<IPython.core.display.HTML object>"
      ]
     },
     "metadata": {},
     "output_type": "display_data"
    },
    {
     "data": {
      "text/html": [
       " View run <strong style=\"color:#cdcd00\">golden-paper-2</strong> at: <a href=\"https://wandb.ai/amirrahman19/Part%20B/runs/3ex428b0\" target=\"_blank\">https://wandb.ai/amirrahman19/Part%20B/runs/3ex428b0</a><br/>Synced 4 W&B file(s), 0 media file(s), 0 artifact file(s) and 0 other file(s)"
      ],
      "text/plain": [
       "<IPython.core.display.HTML object>"
      ]
     },
     "metadata": {},
     "output_type": "display_data"
    },
    {
     "data": {
      "text/html": [
       "Find logs at: <code>.\\wandb\\run-20230205_210746-3ex428b0\\logs</code>"
      ],
      "text/plain": [
       "<IPython.core.display.HTML object>"
      ]
     },
     "metadata": {},
     "output_type": "display_data"
    },
    {
     "data": {
      "text/html": [
       "Successfully finished last run (ID:3ex428b0). Initializing new run:<br/>"
      ],
      "text/plain": [
       "<IPython.core.display.HTML object>"
      ]
     },
     "metadata": {},
     "output_type": "display_data"
    },
    {
     "data": {
      "application/vnd.jupyter.widget-view+json": {
       "model_id": "58e6708065a7441f9167d021ac27eaa4",
       "version_major": 2,
       "version_minor": 0
      },
      "text/plain": [
       "VBox(children=(Label(value='Waiting for wandb.init()...\\r'), FloatProgress(value=0.016666666666666666, max=1.0…"
      ]
     },
     "metadata": {},
     "output_type": "display_data"
    },
    {
     "data": {
      "text/html": [
       "Tracking run with wandb version 0.13.9"
      ],
      "text/plain": [
       "<IPython.core.display.HTML object>"
      ]
     },
     "metadata": {},
     "output_type": "display_data"
    },
    {
     "data": {
      "text/html": [
       "Run data is saved locally in <code>C:\\Users\\amir_\\OneDrive - Singapore Polytechnic\\VSC\\PROGRAMMING\\PYTHON\\Python-SCH\\DELE CA2\\Part B\\wandb\\run-20230205_210749-v95z669b</code>"
      ],
      "text/plain": [
       "<IPython.core.display.HTML object>"
      ]
     },
     "metadata": {},
     "output_type": "display_data"
    },
    {
     "data": {
      "text/html": [
       "Syncing run <strong><a href=\"https://wandb.ai/amirrahman19/RL/runs/v95z669b\" target=\"_blank\">brilliant-rat-86</a></strong> to <a href=\"https://wandb.ai/amirrahman19/RL\" target=\"_blank\">Weights & Biases</a> (<a href=\"https://wandb.me/run\" target=\"_blank\">docs</a>)<br/>"
      ],
      "text/plain": [
       "<IPython.core.display.HTML object>"
      ]
     },
     "metadata": {},
     "output_type": "display_data"
    },
    {
     "data": {
      "text/html": [
       " View project at <a href=\"https://wandb.ai/amirrahman19/RL\" target=\"_blank\">https://wandb.ai/amirrahman19/RL</a>"
      ],
      "text/plain": [
       "<IPython.core.display.HTML object>"
      ]
     },
     "metadata": {},
     "output_type": "display_data"
    },
    {
     "data": {
      "text/html": [
       " View run at <a href=\"https://wandb.ai/amirrahman19/RL/runs/v95z669b\" target=\"_blank\">https://wandb.ai/amirrahman19/RL/runs/v95z669b</a>"
      ],
      "text/plain": [
       "<IPython.core.display.HTML object>"
      ]
     },
     "metadata": {},
     "output_type": "display_data"
    },
    {
     "name": "stdout",
     "output_type": "stream",
     "text": [
      "(8,)\n",
      "4\n"
     ]
    }
   ],
   "source": [
    "import gym\n",
    "import random\n",
    "import torch\n",
    "import torch.nn as nn\n",
    "import torch.nn.functional as F\n",
    "import torch.optim as optim\n",
    "import matplotlib.pyplot as plt\n",
    "import base64, io\n",
    "import wandb\n",
    "import random\n",
    "wandb.login()\n",
    "wandb.init()\n",
    "wandb.init(project=\"RL\", entity=\"amirrahman19\")\n",
    "save_wandb = True\n",
    "import numpy as np\n",
    "from collections import deque, namedtuple\n",
    "\n",
    "# For visualization\n",
    "from gym.wrappers.monitoring import video_recorder\n",
    "from IPython.display import HTML\n",
    "from IPython import display \n",
    "import glob\n",
    "\n",
    "env = gym.make('LunarLander-v2')\n",
    "print(env.observation_space.shape)\n",
    "print(env.action_space.n)"
   ]
  },
  {
   "cell_type": "markdown",
   "metadata": {},
   "source": [
    "## Creating Q-Network"
   ]
  },
  {
   "cell_type": "code",
   "execution_count": 3,
   "metadata": {},
   "outputs": [],
   "source": [
    "class QNetwork(nn.Module):\n",
    "    \"\"\"Actor (Policy) Model.\"\"\"\n",
    "\n",
    "    def __init__(self, state_size, action_size, seed):\n",
    "        \"\"\"Initialize parameters and build model.\n",
    "        Params\n",
    "        ======\n",
    "            state_size (int): Dimension of each state\n",
    "            action_size (int): Dimension of each action\n",
    "            seed (int): Random seed\n",
    "        \"\"\"\n",
    "        super(QNetwork, self).__init__()\n",
    "        self.seed = torch.manual_seed(seed)\n",
    "        self.fc1 = nn.Linear(state_size, 32)\n",
    "        self.fc2 = nn.Linear(32, 64)\n",
    "        self.fc3 = nn.Linear(64, 128)\n",
    "        self.fc4 = nn.Linear(128, 256)\n",
    "        self.fc5 = nn.Linear(256, 256)\n",
    "        self.fc6 = nn.Linear(256, action_size)\n",
    "        \n",
    "    def forward(self, state):\n",
    "        \"\"\"Build a network that maps state -> action values.\"\"\"\n",
    "        x = self.fc1(state)\n",
    "        x = F.relu(x)\n",
    "        x = self.fc2(x)\n",
    "        x = F.relu(x)\n",
    "        x = self.fc3(x)\n",
    "        x = F.relu(x)\n",
    "        x = self.fc4(x)\n",
    "        x = F.relu(x)\n",
    "        x = self.fc5(x)\n",
    "        x = F.relu(x)\n",
    "        return self.fc6(x)\n",
    "\n",
    "\n",
    "BUFFER_SIZE = int(1e5)  # replay buffer size\n",
    "BATCH_SIZE = 64         # minibatch size\n",
    "GAMMA = 0.99            # discount factor\n",
    "TAU = 1e-3              # for soft update of target parameters\n",
    "LR = 5e-4               # learning rate \n",
    "UPDATE_EVERY = 4        # how often to update the network\n",
    "\n",
    "device = torch.device(\"cuda:0\" if torch.cuda.is_available() else \"cpu\")\n"
   ]
  },
  {
   "cell_type": "markdown",
   "metadata": {},
   "source": [
    "## Creating Agent\n"
   ]
  },
  {
   "cell_type": "code",
   "execution_count": 4,
   "metadata": {},
   "outputs": [],
   "source": [
    "class Agent():\n",
    "    \"\"\"Interacts with and learns from the environment.\"\"\"\n",
    "\n",
    "    def __init__(self, state_size, action_size, seed):\n",
    "        \"\"\"Initialize an Agent object.\n",
    "        \n",
    "        Params\n",
    "        ======\n",
    "            state_size (int): dimension of each state\n",
    "            action_size (int): dimension of each action\n",
    "            seed (int): random seed\n",
    "        \"\"\"\n",
    "        self.state_size = state_size\n",
    "        self.action_size = action_size\n",
    "        self.seed = random.seed(seed)\n",
    "\n",
    "        # Q-Network\n",
    "        self.qnetwork_local = QNetwork(state_size, action_size, seed).to(device)\n",
    "        self.qnetwork_target = QNetwork(state_size, action_size, seed).to(device)\n",
    "        self.optimizer = optim.Adam(self.qnetwork_local.parameters(), lr=LR)\n",
    "\n",
    "        # Replay memory\n",
    "        self.memory = ReplayBuffer(action_size, BUFFER_SIZE, BATCH_SIZE, seed)\n",
    "        # Initialize time step (for updating every UPDATE_EVERY steps)\n",
    "        self.t_step = 0\n",
    "    \n",
    "    def step(self, state, action, reward, next_state, done):\n",
    "        # Save experience in replay memory\n",
    "        self.memory.add(state, action, reward, next_state, done)\n",
    "        \n",
    "        # Learn every UPDATE_EVERY time steps.\n",
    "        self.t_step = (self.t_step + 1) % UPDATE_EVERY\n",
    "        if self.t_step == 0:\n",
    "            # If enough samples are available in memory, get random subset and learn\n",
    "            if len(self.memory) > BATCH_SIZE:\n",
    "                experiences = self.memory.sample()\n",
    "                self.learn(experiences, GAMMA)\n",
    "\n",
    "    def act(self, state, eps=0.):\n",
    "        \"\"\"Returns actions for given state as per current policy.\n",
    "        \n",
    "        Params\n",
    "        ======\n",
    "            state (array_like): current state\n",
    "            eps (float): epsilon, for epsilon-greedy action selection\n",
    "        \"\"\"\n",
    "        # print('\\n\\n\\n')\n",
    "        # print('='*100)\n",
    "        # print('AAAAAA ====================>', state, type(state), len(state))\n",
    "        # print('bbbbbb ====================>', state[0], type(state[0]), len(state))\n",
    "        # print(torch.from_numpy(state[0]))\n",
    "        # print('='*100)\n",
    "        state = torch.from_numpy(state).float().unsqueeze(0).to(device)\n",
    "        self.qnetwork_local.eval()\n",
    "        with torch.no_grad():\n",
    "            action_values = self.qnetwork_local(state)\n",
    "        self.qnetwork_local.train()\n",
    "\n",
    "        # Epsilon-greedy action selection\n",
    "        if random.random() > eps:\n",
    "            return np.argmax(action_values.cpu().data.numpy())\n",
    "        else:\n",
    "            return random.choice(np.arange(self.action_size))\n",
    "\n",
    "    def learn(self, experiences, gamma):\n",
    "        \"\"\"Update value parameters using given batch of experience tuples.\n",
    "\n",
    "        Params\n",
    "        ======\n",
    "            experiences (Tuple[torch.Variable]): tuple of (s, a, r, s', done) tuples \n",
    "            gamma (float): discount factor\n",
    "        \"\"\"\n",
    "        # Obtain random minibatch of tuples from D\n",
    "        states, actions, rewards, next_states, dones = experiences\n",
    "\n",
    "        ## Compute and minimize the loss\n",
    "        ### Extract next maximum estimated value from target network\n",
    "        q_targets_next = self.qnetwork_target(next_states).detach().max(1)[0].unsqueeze(1)\n",
    "        ### Calculate target value from bellman equation\n",
    "        q_targets = rewards + gamma * q_targets_next * (1 - dones)\n",
    "        ### Calculate expected value from local network\n",
    "        q_expected = self.qnetwork_local(states).gather(1, actions)\n",
    "        \n",
    "        ### Loss calculation (we used Mean squared error)\n",
    "        loss = F.mse_loss(q_expected, q_targets)\n",
    "        self.optimizer.zero_grad()\n",
    "        loss.backward()\n",
    "        self.optimizer.step()\n",
    "        # wandb.log({'Loss': loss})\n",
    "        # ------------------- update target network ------------------- #\n",
    "        self.soft_update(self.qnetwork_local, self.qnetwork_target, TAU)                     \n",
    "\n",
    "    def soft_update(self, local_model, target_model, tau):\n",
    "        \"\"\"Soft update model parameters.\n",
    "        θ_target = τ*θ_local + (1 - τ)*θ_target\n",
    "\n",
    "        Params\n",
    "        ======\n",
    "            local_model (PyTorch model): weights will be copied from\n",
    "            target_model (PyTorch model): weights will be copied to\n",
    "            tau (float): interpolation parameter \n",
    "        \"\"\"\n",
    "        for target_param, local_param in zip(target_model.parameters(), local_model.parameters()):\n",
    "            target_param.data.copy_(tau*local_param.data + (1.0-tau)*target_param.data)\n",
    "\n"
   ]
  },
  {
   "cell_type": "markdown",
   "metadata": {},
   "source": [
    "## Creating Replay Buffer"
   ]
  },
  {
   "cell_type": "code",
   "execution_count": 5,
   "metadata": {},
   "outputs": [],
   "source": [
    "class ReplayBuffer:\n",
    "    \"\"\"Fixed-size buffer to store experience tuples.\"\"\"\n",
    "\n",
    "    def __init__(self, action_size, buffer_size, batch_size, seed):\n",
    "        \"\"\"Initialize a ReplayBuffer object.\n",
    "\n",
    "        Params\n",
    "        ======\n",
    "            action_size (int): dimension of each action\n",
    "            buffer_size (int): maximum size of buffer\n",
    "            batch_size (int): size of each training batch\n",
    "            seed (int): random seed\n",
    "        \"\"\"\n",
    "        self.action_size = action_size\n",
    "        self.memory = deque(maxlen=buffer_size)  \n",
    "        self.batch_size = batch_size\n",
    "        self.experience = namedtuple(\"Experience\", field_names=[\"state\", \"action\", \"reward\", \"next_state\", \"done\"])\n",
    "        self.seed = random.seed(seed)\n",
    "    \n",
    "    def add(self, state, action, reward, next_state, done):\n",
    "        \"\"\"Add a new experience to memory.\"\"\"\n",
    "        e = self.experience(state, action, reward, next_state, done)\n",
    "        self.memory.append(e)\n",
    "    \n",
    "    def sample(self):\n",
    "        \"\"\"Randomly sample a batch of experiences from memory.\"\"\"\n",
    "        experiences = random.sample(self.memory, k=self.batch_size)\n",
    "\n",
    "        states = torch.from_numpy(np.vstack([e.state for e in experiences if e is not None])).float().to(device)\n",
    "        actions = torch.from_numpy(np.vstack([e.action for e in experiences if e is not None])).long().to(device)\n",
    "        rewards = torch.from_numpy(np.vstack([e.reward for e in experiences if e is not None])).float().to(device)\n",
    "        next_states = torch.from_numpy(np.vstack([e.next_state for e in experiences if e is not None])).float().to(device)\n",
    "        dones = torch.from_numpy(np.vstack([e.done for e in experiences if e is not None]).astype(np.uint8)).float().to(device)\n",
    "\n",
    "        return (states, actions, rewards, next_states, dones)\n",
    "\n",
    "    def __len__(self):\n",
    "        \"\"\"Return the current size of internal memory.\"\"\"\n",
    "        return len(self.memory)\n",
    "\n"
   ]
  },
  {
   "cell_type": "code",
   "execution_count": 6,
   "metadata": {},
   "outputs": [],
   "source": [
    "from matplotlib import animation\n",
    "import matplotlib.pyplot as plt\n",
    "import gym \n",
    "\n",
    "\"\"\"\n",
    "Ensure you have imagemagick installed with \n",
    "sudo apt-get install imagemagick\n",
    "Open file in CLI with:\n",
    "xgd-open <filelname>\n",
    "\"\"\"\n",
    "# def save_frames_as_gif(frames, path='./', filename='gym_animation.gif'):\n",
    "\n",
    "#     #Mess with this to change frame size\n",
    "#     plt.figure(figsize=(frames[0].shape[1] / 72.0, frames[0].shape[0] / 72.0), dpi=72)\n",
    "\n",
    "#     patch = plt.imshow(frames[0])\n",
    "#     plt.axis('off')\n",
    "\n",
    "#     def animate(i):\n",
    "#         patch.set_data(frames[i])\n",
    "\n",
    "#     anim = animation.FuncAnimation(plt.gcf(), animate, frames = len(frames), interval=50)\n",
    "#     anim.save(path + filename, writer='imagemagick', fps=60)\n",
    "\n",
    "from PIL import Image\n",
    "\n",
    "def save_frames_as_gif(frames, path, filename):\n",
    "  im1 = Image.fromarray(frames[0])\n",
    "  others = [Image.fromarray(i) for i in frames[1:]]\n",
    "  im1.save(f'{path}/{filename}', save_all=True, append_images=others, duration=30, loop=0)\n",
    "\n",
    "\n",
    "def gif(agent, path, filename):\n",
    "  env = gym.make('LunarLander-v2', render_mode='rgb_array')\n",
    "  state = env.reset()[0]\n",
    "  frames = []\n",
    "\n",
    "  for _ in range(2000):\n",
    "    rendered = env.render()\n",
    "    frames.append(rendered) \n",
    "    action = agent.act(state, 0)\n",
    "    next_state, reward, done, truncated, info = env.step(action)\n",
    "    state = next_state\n",
    "\n",
    "    if done or truncated:\n",
    "      env.close()\n",
    "      save_frames_as_gif(frames, path, filename)\n",
    "      return"
   ]
  },
  {
   "cell_type": "code",
   "execution_count": 7,
   "metadata": {},
   "outputs": [],
   "source": [
    "import time\n",
    "import os\n",
    "\n",
    "\n",
    "\n",
    "def calc_success_rate(scores, threshold=200.0):\n",
    "    \"\"\"Calculates the success rate based on a list of scores.\n",
    "\n",
    "    Params\n",
    "    ======\n",
    "        scores (list): list of scores obtained by the agent\n",
    "        threshold (float): the minimum score required for success\n",
    "\n",
    "    Returns\n",
    "    =======\n",
    "        success_rate (float): the success rate of the agent\n",
    "    \"\"\"\n",
    "    success = 0\n",
    "    for score in scores:\n",
    "        if score >= threshold:\n",
    "            success += 1\n",
    "    success_rate = success / len(scores)\n",
    "    return success_rate\n",
    "\n",
    "def dqn(n_episodes=2000, max_t=1000, eps_start=1.0, eps_end=0.01, eps_decay=0.995):\n",
    "    gif_folder = 'gifs/' + str(time.time())\n",
    "    os.mkdir(gif_folder)\n",
    "    \"\"\"Deep Q-Learning.\n",
    "    \n",
    "    Params\n",
    "    ======\n",
    "        n_episodes (int): maximum number of training episodes\n",
    "        max_t (int): maximum number of timesteps per episode\n",
    "        eps_start (float): starting value of epsilon, for epsilon-greedy action selection\n",
    "        eps_end (float): minimum value of epsilon\n",
    "        eps_decay (float): multiplicative factor (per episode) for decreasing epsilon\n",
    "    \"\"\"\n",
    "    scores = []                        # list containing scores from each episode\n",
    "    scores_window = deque(maxlen=100)  # last 100 scores\n",
    "    reward_window = deque(maxlen=100)  # last 100 rewards\n",
    "    eps = eps_start                    # initialize epsilon\n",
    "    \n",
    "    \n",
    "    print('starting training')\n",
    "    for i_episode in range(1, n_episodes+1):\n",
    "        states = []\n",
    "        state = env.reset()[0]\n",
    "        score = 0\n",
    "        for t in range(max_t):\n",
    "            action = agent.act(state, eps)\n",
    "            # print(f'{t=} ACTION', action)\n",
    "            next_state, reward, done, *_ = env.step(action)\n",
    "            states.append(next_state)\n",
    "            agent.step(state, action, reward, next_state, done)\n",
    "            state = next_state\n",
    "            score += reward\n",
    "            if done:\n",
    "                break \n",
    "        scores_window.append(score)       # save most recent score\n",
    "        reward_window.append(reward)\n",
    "        eps = max(eps_end, eps_decay*eps) # decrease epsilon\n",
    "\n",
    "        print('\\rEpisode {}\\tAverage Score: {:.2f}'.format(i_episode, np.mean(scores_window)), end=\"\")\n",
    "        if i_episode % 100 == 0:\n",
    "            print('\\rEpisode {}\\tAverage Score: {:.2f}'.format(i_episode, np.mean(scores_window)))\n",
    "        scores.append(dict(\n",
    "          episode=i_episode,\n",
    "          epsilon=eps,\n",
    "            average_score=np.mean(scores_window),\n",
    "            success_rate=calc_success_rate(scores_window),\n",
    "            average_reward=np.mean(reward_window)\n",
    "            \n",
    "        ))\n",
    "\n",
    "        # saving GIF\n",
    "        if i_episode % 100 == 1:\n",
    "          gif(agent, path=gif_folder, filename=f'episode_{i_episode}.gif')\n",
    "        \n",
    "   \n",
    "        \n",
    "        wandb.log({'Episode': i_episode, 'Average Reward': np.mean(reward_window), 'Epsilon': eps,  'Average Score': np.mean(scores_window), \n",
    "                   'Success Rate': calc_success_rate(scores_window)})\n",
    "\n",
    "        if np.mean(scores_window)>=250.0:\n",
    "            print('\\nEnvironment solved in {:d} episodes!\\tAverage Score: {:.2f}'.format(i_episode-100, np.mean(scores_window)))\n",
    "            torch.save(agent.qnetwork_local.state_dict(), 'saved_models/dqn-hparams.pth')\n",
    "            break\n",
    "    return scores\n"
   ]
  },
  {
   "cell_type": "code",
   "execution_count": 8,
   "metadata": {},
   "outputs": [
    {
     "name": "stdout",
     "output_type": "stream",
     "text": [
      "starting training\n",
      "Episode 100\tAverage Score: -173.53\n",
      "Episode 200\tAverage Score: -152.49\n",
      "Episode 300\tAverage Score: -57.089\n",
      "Episode 400\tAverage Score: 11.920\n",
      "Episode 500\tAverage Score: 22.47\n",
      "Episode 600\tAverage Score: 102.68\n",
      "Episode 700\tAverage Score: 170.23\n",
      "Episode 800\tAverage Score: 203.40\n",
      "Episode 900\tAverage Score: 210.72\n",
      "Episode 1000\tAverage Score: 222.46\n",
      "Episode 1100\tAverage Score: 216.39\n",
      "Episode 1200\tAverage Score: 236.86\n",
      "Episode 1300\tAverage Score: 244.41\n",
      "Episode 1334\tAverage Score: 250.12\n",
      "Environment solved in 1234 episodes!\tAverage Score: 250.12\n"
     ]
    }
   ],
   "source": [
    "agent = Agent(state_size=8, action_size=4, seed=0)\n",
    "scores = dqn(n_episodes=2000)"
   ]
  },
  {
   "cell_type": "markdown",
   "metadata": {},
   "source": [
    "## Evaluating LunarLander with exported model"
   ]
  },
  {
   "cell_type": "code",
   "execution_count": 9,
   "metadata": {},
   "outputs": [
    {
     "data": {
      "image/png": "[encoded data removed]",
      "text/plain": [
       "<Figure size 700x800 with 4 Axes>"
      ]
     },
     "metadata": {},
     "output_type": "display_data"
    }
   ],
   "source": [
    "episodes = [item['episode'] for item in scores]\n",
    "epsilons = [item['epsilon'] for item in scores]\n",
    "average_score_list = [item['average_score'] for item in scores]\n",
    "success_rate_list = [item['success_rate'] for item in scores]\n",
    "average_rewards_list = [item['average_reward'] for item in scores]\n",
    "\n",
    "\n",
    "fig, (ax1, ax2, ax3, ax4) = plt.subplots(4, 1, figsize=(7,8))\n",
    "\n",
    "ax1.set_xlabel('Episode')\n",
    "ax1.set_ylabel('Average Reward')\n",
    "ax1.plot(episodes, average_rewards_list)\n",
    "\n",
    "ax2.set_xlabel('Episode')\n",
    "ax2.set_ylabel('Epsilon')\n",
    "ax2.plot(episodes, epsilons)\n",
    "\n",
    "\n",
    "ax3.set_xlabel('Episode')\n",
    "ax3.set_ylabel('Average Score')\n",
    "ax3.plot(episodes, average_score_list)\n",
    "\n",
    "ax4.set_xlabel('Episode')\n",
    "ax4.set_ylabel('Success Rate')\n",
    "ax4.plot(episodes, success_rate_list)\n",
    "\n",
    "\n",
    "fig.tight_layout()\n",
    "plt.show()\n"
   ]
  },
  {
   "cell_type": "code",
   "execution_count": null,
   "metadata": {},
   "outputs": [],
   "source": [
    "agent = Agent(state_size=8, action_size=4, seed=0)\n",
    "agent.qnetwork_local.load_state_dict(torch.load('saved_models/dqn-hparams.pth'))\n",
    "\n",
    "env = gym.make('LunarLander-v2', render_mode='human')\n",
    "state = env.reset()[0]\n",
    "\n",
    "for _ in range(10000):\n",
    "    action = agent.act(state, 0)\n",
    "    next_state, reward, done, truncated, info = env.step(action)\n",
    "    state = next_state\n",
    "\n",
    "    if done or truncated:\n",
    "        observation, info = env.reset()\n",
    "\n",
    "env.close()"
   ]
  },
  {
   "attachments": {},
   "cell_type": "markdown",
   "metadata": {},
   "source": [
    "# Conclusion\n",
    "\n",
    "In the study of Lunar Lander v2, two different Deep Q-Network (DQN) models were used: a baseline DQN and a hyperparameter-tuned DQN. The baseline DQN was unable to converge and thus, the training was stopped. This result highlights the crucial role that hyperparameter tuning plays in the successful training of a DQN.\n",
    "\n",
    "The hyperparameter-tuned DQN, on the other hand, demonstrated significant improvements in performance compared to the baseline DQN. This result supports the idea that even small modifications to the model architecture and training parameters can have a major impact on the overall performance of a DQN. Further research can be conducted to explore other techniques such as double DQN, prioritized replay, and dueling DQN to further enhance the performance of DQN on the Lunar Lander v2 task.\n",
    "\n",
    "The results from this study can be applied to other reinforcement learning problems, emphasizing the significance of hyperparameter tuning in achieving successful outcomes. This is a crucial step in the development of DQN models for various applications, including robotics, autonomous systems, and gaming. As such, it is important to continue to investigate hyperparameter tuning and its impact on the performance of DQN models.\n",
    "\n",
    "In conclusion, the study of Lunar Lander v2 has provided valuable insights into the use of DQN in reinforcement learning. The results demonstrate the importance of properly tuning the hyperparameters to achieve optimal performance. Further research is needed to continue to improve the performance of DQN models and make them more widely applicable in various fields. The findings of this study can serve as a useful starting point for future work in this area."
   ]
  }
 ],
 "metadata": {
  "kernelspec": {
   "display_name": "Python 3",
   "language": "python",
   "name": "python3"
  },
  "language_info": {
   "codemirror_mode": {
    "name": "ipython",
    "version": 3
   },
   "file_extension": ".py",
   "mimetype": "text/x-python",
   "name": "python",
   "nbconvert_exporter": "python",
   "pygments_lexer": "ipython3",
   "version": "3.9.4"
  },
  "vscode": {
   "interpreter": {
    "hash": "4f338e49ac027a11ece8614d8fb5cf0fada073a9d513545b70b5b1436eaea29d"
   }
  }
 },
 "nbformat": 4,
 "nbformat_minor": 4
}
